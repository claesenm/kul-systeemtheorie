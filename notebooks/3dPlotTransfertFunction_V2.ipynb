{
 "cells": [
  {
   "cell_type": "markdown",
   "metadata": {},
   "source": [
    "# 3D Transfert Function Plot"
   ]
  },
  {
   "cell_type": "markdown",
   "metadata": {},
   "source": [
    "In this demo you can draw the 3d plot of a transfert function $\\mid H(z)\\mid = \\frac{\\sum\\limits_{i= 0}^{n} b_i z^{i}}{\\sum\\limits_{i= 0}^{n} a_i z^{i}}$. In a pole the transfert function goes to infinity, in a zero the transfert function becomes 0."
   ]
  },
  {
   "cell_type": "code",
   "execution_count": 1,
   "metadata": {
    "collapsed": false
   },
   "outputs": [
    {
     "name": "stdout",
     "output_type": "stream",
     "text": [
      "Enter numerator(e.g. s^2 + s -> 1,1,0): 1,2\n",
      "Enter denominator(as s^2 + s -> 1,1,0): 1,-2\n",
      "2.6806665752e+13\n"
     ]
    }
   ],
   "source": [
    "from A3dPlotTransfertFunction_V2 import *\n",
    "\n",
    "def evaluate_fractional_polynomal(num,den,x,y):\n",
    "    Z = x + y*1j\n",
    "    numerator = num[0]\n",
    "    for k in range(1,len(num)):\n",
    "        numerator = (numerator * Z)+num[k]\n",
    "    denominator = den[0]\n",
    "    for l in range(1,len(den)):\n",
    "        denominator = (denominator*Z) + den[l]\n",
    "    return numerator/denominator\n",
    "\n",
    "# Handeling user input\n",
    "num = input_handler(\"Enter numerator(e.g. s^2 + s -> 1,1,0): \")\n",
    "den = input_handler(\"Enter denominator(as s^2 + s -> 1,1,0): \")\n",
    "# Calculation the zero and poles by converting transferfunction to zero pole representation. (ref: H5-Continu Time systems, Transfert Function)\n",
    "z,p,k = sig.tf2zpk(num,den)\n",
    "# Calculation optimal ranges for drawing\n",
    "x_min,x_max,y_min,y_max,z_min,z_max = dynamic_axis(z,p,k)\n",
    "X = np.arange(x_min, x_max, (x_max-x_min)/500.0)\n",
    "Y = np.arange(y_min, y_max, (y_max-y_min)/500.0)\n",
    "xx,yy = np.meshgrid(X,Y)\n",
    "# Evaluate function for the given points\n",
    "zz = np.abs(evaluate_fractional_polynomal(num,den,xx,yy))\n",
    "print np.amax(zz)\n",
    "# Plotting 3d plot\n",
    "draw_3d_plot(xx,yy,zz,z_min,z_max)\n",
    "# Plotting zero-pole diagram\n",
    "draw_zero_pole(z,p,x_min,x_max,y_min,y_max)"
   ]
  },
  {
   "cell_type": "code",
   "execution_count": null,
   "metadata": {
    "collapsed": true
   },
   "outputs": [],
   "source": []
  },
  {
   "cell_type": "code",
   "execution_count": null,
   "metadata": {
    "collapsed": true
   },
   "outputs": [],
   "source": []
  }
 ],
 "metadata": {
  "kernelspec": {
   "display_name": "Python 2",
   "language": "python",
   "name": "python2"
  },
  "language_info": {
   "codemirror_mode": {
    "name": "ipython",
    "version": 2
   },
   "file_extension": ".py",
   "mimetype": "text/x-python",
   "name": "python",
   "nbconvert_exporter": "python",
   "pygments_lexer": "ipython2",
   "version": "2.7.9"
  }
 },
 "nbformat": 4,
 "nbformat_minor": 0
}
