{
 "cells": [
  {
   "cell_type": "code",
   "execution_count": 9,
   "metadata": {
    "collapsed": false
   },
   "outputs": [],
   "source": [
    "from control import*\n",
    "from matplotlib import*\n",
    "from pylab import*\n"
   ]
  },
  {
   "cell_type": "code",
   "execution_count": null,
   "metadata": {
    "collapsed": false,
    "scrolled": true
   },
   "outputs": [
    {
     "name": "stdout",
     "output_type": "stream",
     "text": [
      "Welcome to this controller demo. The objective is to design a proportional controller. You can choose your own design objectives\n"
     ]
    }
   ],
   "source": [
    "\n",
    "print \"Welcome to this controller demo. The objective is to design a proportional controller. You can choose your own design objectives\"\n",
    "correct = False\n",
    "while not correct:\n",
    "    Nom = raw_input(\"Give in the numerator of the transfer function(a,b,c,d,...) = \")\n",
    "    Nom = Nom.split(',')\n",
    "    correct = True\n",
    "    for k in range(len(Nom)):\n",
    "        try:\n",
    "            Nom[k] = float(Nom[k])\n",
    "        except:\n",
    "            correct = False\n",
    "    \n",
    "\n",
    "correct = False\n",
    "while not correct:\n",
    "    DeNom = raw_input(\"Give in the denominator of the transfer function(a,b,c,d,...) = \")\n",
    "    DeNom = DeNom.split(',')\n",
    "    correct = True\n",
    "    for k in range(len(DeNom)):\n",
    "        try:\n",
    "            DeNom[k] = float(DeNom[k])\n",
    "        except:\n",
    "            correct = False\n",
    "    \n",
    "TF = TransferFunction(Nom,DeNom)\n",
    "print TF\n",
    "bode(TF,dB=True)\n",
    "show ()\n",
    "YN = False\n",
    "while YN == False:\n",
    "    \n",
    "    print \"You want to continue with this transfer function?\"\n",
    "    YN = input(\"True/False \")\n",
    "    while not isinstance(YN,bool):\n",
    "        YN = input(\"True/False \")\n",
    "    if YN == False:\n",
    "        correct = False\n",
    "        while not correct:\n",
    "            Nom = raw_input(\"Give in the numerator of the transfer function(a,b,c,d,...) = \")\n",
    "            Nom = Nom.split(',')\n",
    "            correct = True\n",
    "            for k in range(len(Nom)):\n",
    "                try:\n",
    "                    Nom[k] = float(Nom[k])\n",
    "                except:\n",
    "                    correct = False\n",
    "        correct = False            \n",
    "        while not correct:\n",
    "            DeNom = raw_input(\"Give in the denominator of the transfer function(a,b,c,d,...) = \")\n",
    "            DeNom = DeNom.split(',')\n",
    "            correct = True\n",
    "            for k in range(len(DeNom)):\n",
    "                try:\n",
    "                    DeNom[k] = float(DeNom[k])\n",
    "                except:\n",
    "                    correct = False\n",
    "        TF = TransferFunction(Nom,DeNom)\n",
    "        print TF\n",
    "        bode(TF,dB=True)\n",
    "        show ()  \n",
    "PMS = input (\"Give in your desired phasemargin(in degrees) \")\n",
    "GM,PM,X1,X2=margin(TF)\n",
    "if PM == None:\n",
    "    PM=10000\n",
    "K = 1   \n",
    "if PM<=PMS and PM!=0:        \n",
    "    print \"The original phasemargin = \",PM,\"so your objective can't be reached\"        \n",
    "else:\n",
    "    teller = 0\n",
    "    while abs(PM-PMS)>0.1:\n",
    "        if PM > 60+PMS:\n",
    "            K = K*3\n",
    "            teller+=1\n",
    "        else:\n",
    "            if PM > 45+PMS:\n",
    "                K = K*2\n",
    "                teller+=1\n",
    "            else: \n",
    "                if PM > 20+PMS:\n",
    "                    K= K+2\n",
    "                else:\n",
    "                    if PM > 10+PMS:\n",
    "                        K= K+1\n",
    "                    else:\n",
    "                        if PM > 5+PMS:\n",
    "                            K = K+0.5                      \n",
    "        GM,PM,X1,X2=margin(K*TF)\n",
    "        if PM == None:\n",
    "            PM =10000\n",
    "        K = K+0.001\n",
    "        \n",
    "        if teller == 50:\n",
    "            PM=0\n",
    "            PMS=0\n",
    "    if teller == 50:\n",
    "        print \"Calculating the phasemargin doesn't make sense\"\n",
    "    else:\n",
    "        bode(TF,dB=True)\n",
    "        show ()                \n",
    "        EsK = input(\"Give your estimated value for K \")\n",
    "        if abs(K-EsK)<=0.5:\n",
    "            print \"Your estimated value for K is correct\"\n",
    "        else:\n",
    "            print \"Your estimated value for K is incorrect, it should have been around \",K\n",
    "\n",
    "print \"Made by Van Assche Jonah with the help of Appeltans Pieter\""
   ]
  },
  {
   "cell_type": "code",
   "execution_count": null,
   "metadata": {
    "collapsed": false
   },
   "outputs": [],
   "source": [
    "\n"
   ]
  },
  {
   "cell_type": "code",
   "execution_count": null,
   "metadata": {
    "collapsed": false
   },
   "outputs": [],
   "source": [
    "\n",
    "\n",
    "      "
   ]
  },
  {
   "cell_type": "code",
   "execution_count": null,
   "metadata": {
    "collapsed": false
   },
   "outputs": [],
   "source": [
    "\n",
    "\n"
   ]
  },
  {
   "cell_type": "code",
   "execution_count": null,
   "metadata": {
    "collapsed": false
   },
   "outputs": [],
   "source": [
    "\n"
   ]
  },
  {
   "cell_type": "code",
   "execution_count": null,
   "metadata": {
    "collapsed": false
   },
   "outputs": [],
   "source": [
    "\n"
   ]
  }
 ],
 "metadata": {
  "kernelspec": {
   "display_name": "Python 2",
   "language": "python",
   "name": "python2"
  },
  "language_info": {
   "codemirror_mode": {
    "name": "ipython",
    "version": 2
   },
   "file_extension": ".py",
   "mimetype": "text/x-python",
   "name": "python",
   "nbconvert_exporter": "python",
   "pygments_lexer": "ipython2",
   "version": "2.7.10"
  }
 },
 "nbformat": 4,
 "nbformat_minor": 0
}
