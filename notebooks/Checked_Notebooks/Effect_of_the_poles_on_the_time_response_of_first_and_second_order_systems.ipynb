{
 "cells": [
  {
   "cell_type": "markdown",
   "metadata": {},
   "source": [
    "# Effect of the poles on the time response of first and second order systems\n",
    "<br> In this demo we will look what the effect is of the position of the poles on the zeros/poles plot, the step response, the impulse response, the settling time and the rise time.\n",
    "<br> The rise time is the time when the step response crosses 90% of the value of the steady state error for the <b>first time</b>.<br>\n",
    "The settling time is the time when the step response starts oscillating in a band of 2% of the steady state error.\n"
   ]
  },
  {
   "cell_type": "code",
   "execution_count": null,
   "metadata": {
    "collapsed": false,
    "scrolled": true
   },
   "outputs": [],
   "source": [
    "%matplotlib inline\n",
    "from Effect_of_the_poles_on_the_time_response_of_first_and_second_order_systems import *"
   ]
  },
  {
   "cell_type": "code",
   "execution_count": null,
   "metadata": {
    "collapsed": false,
    "scrolled": true
   },
   "outputs": [],
   "source": [
    "def calculate_steady_state(TF):\n",
    "    # Calculate the poles of the system\n",
    "    poles=pole(TF)\n",
    "    # If there is a pole in the right half- plane, the system is not stable and we have no  steady state.\n",
    "    if (True in map(lambda x: real(x) >=0,poles)):\n",
    "        return None\n",
    "    # Calculate the step response of the system\n",
    "    t,y=step_response(TF)\n",
    "    # Steady steat is last value in sequence\n",
    "    return y[-1]\n",
    "\n",
    "def calculate_rise_time(y,t,steady_state):\n",
    "    # Calculate time to reach the steady state for the first time\n",
    "    # If there is no steady state, you cann't reach it\n",
    "    if steady_state == None:\n",
    "        return None\n",
    "    # Calculate when first time above 90% of steady state\n",
    "    for i in range(0,len(y)):\n",
    "        if y[i]>=steady_state*0.9:\n",
    "            return t[i]\n",
    "    return None\n",
    "\n",
    "def calculate_settling_time(y,t,steady_state):\n",
    "    # Calculate the settling time\n",
    "    # If there is no steady state, you cann't settle around it.\n",
    "    if steady_state==None:\n",
    "        return None\n",
    "    # If the last value is already outside the box, don't look for settling time\n",
    "    if y[-1]> (steady_state +0.02*steady_state) or y[-1] < (steady_state - 0.02*steady_state):\n",
    "        return None\n",
    "    else:\n",
    "        # Run from the back and check when we leave the settling area.\n",
    "        for i in range(len(y)-1,-1,-1):\n",
    "            # Break for loop when we leave band around steady state\n",
    "            if y[i]> (steady_state + 0.02*steady_state) or y[i] < (steady_state - 0.02*steady_state):\n",
    "                break\n",
    "        \n",
    "        return t[i+1]"
   ]
  },
  {
   "cell_type": "markdown",
   "metadata": {},
   "source": [
    "\n",
    "## First order system\n",
    "$H(s) = \\frac{k}{s-a}$ <br>\n",
    "Reaction to step input: $Y(s) = \\frac{k}{s(s-a)}$<br>\n",
    "- If $a \\neq 0$<br>\n",
    "     $y(t)= \\mathcal{L}^{-1}\\Big(\\frac{k}{s(s-a)} \\Big) = \\mathcal{L}^{-1}\\Big(\\alpha_0 + \\frac{\\alpha_1}{s} + \\frac{\\alpha_2}{s-a}\\Big) = \\alpha_0 \\delta(t) + \\alpha_1 + \\alpha_2 e^{at}$<br>\n",
    "    * If a < 0:<br>\n",
    "    $\\lim_{t\\rightarrow \\infty} e^{at} = 0 \\Rightarrow \\lim_{t\\rightarrow \\infty} y(t) = \\alpha_1$<br>\n",
    "    <br>\n",
    "    with $\\alpha_1 = \\frac{k}{-a}$\n",
    "    * If a > 0:<br>\n",
    "    $\\lim_{t\\rightarrow \\infty} e^{at} = \\infty \\Rightarrow \\lim_{t\\rightarrow \\infty} y(t) = \\infty$<br>\n",
    "    <br>\n",
    "\n",
    "- If $ a = 0$:<br>\n",
    "$y(t)= \\mathcal{L}^{-1}\\Big(\\frac{k}{s^2} \\Big) = \\mathcal{L}^{-1}\\Big(\\alpha_0 + \\frac{\\alpha_1}{s} + \\frac{\\alpha_2}{s^2}\\Big) = \\alpha_0 \\delta(t) + \\alpha_1 + \\alpha_2 t$<br>\n",
    "$\\lim_{t \\rightarrow \\infty}y(t) = \\infty$\n",
    "    "
   ]
  },
  {
   "cell_type": "code",
   "execution_count": null,
   "metadata": {
    "collapsed": false,
    "scrolled": true
   },
   "outputs": [],
   "source": [
    "def first_order_system_time_response(k,a):\n",
    "    \"\"\"Plots the zero/pole plot, the step response and the impulse response of a first order system.\"\"\"\n",
    "    TF = TransferFunction([k],[1,-a])\n",
    "    print \"H(s)= \" \n",
    "    print \n",
    "    print TF\n",
    "    t_step,y_step = step_response(TF)\n",
    "    sse= calculate_steady_state(TF)\n",
    "    t_impulse,y_impulse=impulse_response(TF)\n",
    "    rise_time = calculate_rise_time(y_step,t_step,sse)\n",
    "    settling_time = calculate_settling_time(y_step,t_step,sse)\n",
    "    print \"Rise time: \", rise_time if rise_time != None else \"Not defined\"\n",
    "    print \"Settling time: \",settling_time if settling_time != None else \"Not defined\"\n",
    "    draw(t_step,y_step,t_impulse,y_impulse,sse,rise_time,settling_time,TF)\n",
    "    \n",
    "    \n",
    "interact(first_order_system_time_response,k=(0.001,100,1),a=(-100,100,1))"
   ]
  },
  {
   "cell_type": "markdown",
   "metadata": {},
   "source": [
    "## Second order system\n",
    "$H(s) = \\frac{k}{(s-\\alpha)(s-\\beta)}$<br>\n",
    "Response to step input: $Y(s) =\\frac{k}{s(s-\\alpha)(s-\\beta)} $ <br>\n",
    "- If $\\alpha$ and $\\beta$ are real (im = 0):<br>\n",
    "    * If $\\alpha,\\beta \\neq 0$ and $\\alpha \\neq \\beta \\Rightarrow y(t) = \\mathcal{L}^{-1}\\Big(\\frac{k}{s(s-\\alpha)(s-\\beta)} \\Big) = \\mathcal{L}^{-1}\\Big(a_0 + \\frac{a_1}{s} + \\frac{a_2}{s-\\alpha} + \\frac{a_3}{s-\\beta}\\Big) = a_0 \\delta(t) + a_1 + a_2 e^{\\alpha t} + a_3 e^{\\beta t} $<br>\n",
    "        o If $\\alpha/\\beta > 0: \\lim_{t \\rightarrow \\infty} y(t) = \\infty$<br>\n",
    "        o If $\\alpha,\\beta < 0: \\lim_{t \\rightarrow \\infty} y(t) = a_1$<br>\n",
    "    <br>\n",
    "    * If $\\alpha,\\beta \\neq 0$ and $\\alpha = \\beta \\Rightarrow y(t) = \\mathcal{L}^{-1}\\Big(\\frac{k}{s(s-\\alpha)^2} \\Big) = \\mathcal{L}^{-1}\\Big(a_0 + \\frac{a_1}{s} + \\frac{a_2}{s-\\alpha} + \\frac{a_3}{(s-\\alpha)^2}\\Big) =a_0 \\delta(t) + a_1 + a_2 e^{\\alpha t} + a_3 t e^{\\alpha t}$<br>\n",
    "        o If $\\alpha > 0: \\lim_{t \\rightarrow \\infty} y(t) = \\infty$<br>\n",
    "        o If $\\alpha < 0: \\lim_{t \\rightarrow \\infty} y(t) = a_1$<br>\n",
    "    <br>\n",
    "    * If $\\alpha/\\beta = 0 \\Rightarrow y(t) = \\mathcal{L}^{-1}\\Big(\\frac{k}{s^2(s-\\beta/\\alpha)} \\Big) = \\mathcal{L}^{-1}\\Big(a_0 + \\frac{a_1}{s} + \\frac{a_2}{s^2} + \\frac{a_3}{s-\\beta/\\alpha} \\Big) = a_0 \\delta(t) + a_1 + a_2 t + a_3 e^{\\beta / \\alpha t}$ <br>\n",
    "    $\\lim_{t\\rightarrow \\infty} y(t) = \\infty$<br>\n",
    "    <br>\n",
    "    * If $\\alpha,\\beta = 0 \\Rightarrow y(t) = \\mathcal{L}^{-1}\\Big(\\frac{k}{s^3} \\Big) = \\mathcal{L}^{-1}\\Big(a_0 + \\frac{a_1}{s} + \\frac{a_2}{s^2} + \\frac{a_3}{s^3} \\Big) = a_0 \\delta(t) + a_1 + a_2 t + a_3 \\frac{t^2}{2}$ <br>\n",
    "      $\\lim_{t\\rightarrow \\infty} y(t) = \\infty$<br>\n",
    "      <br>\n",
    "- If $im \\neq 0 \\Rightarrow \\alpha,\\beta$ are complex conjugate, $\\alpha = a + Im*j, \\beta = a-*Im j $:<br>\n",
    "   - $ y(t) = \\mathcal{L}^{-1}\\Big(\\frac{k}{s(s-(a+Im*j))(s-(a-Im*j))} \\Big) = \\mathcal{L}^{-1}\\Big(a_0 + \\frac{a_1}{s} + \\frac{a_2}{s-(a+Im j)} + \\frac{a_3}{s-(a-Im j)}\\Big) = a_0 \\delta(t) + a_1 + R_1 e^{j\\theta_1} e^{at}(cos(Im t) + sin(Im t))  + R_1 e^{-j\\theta_1} e^{at}(cos(Im t) - sin(Im t)) $<br>  \n",
    "        * If $a >0 $:\n",
    "        $\\lim_{t\\rightarrow \\infty} y(t) = \\infty$\n",
    "        * If $a= 0$ :\n",
    "        $\\lim_{t \\rightarrow \\infty} y(t) = undefined$ <br>\n",
    "        * If $a <0$ :\n",
    "        $ \\lim_{t \\rightarrow \\infty} y(t) = a_1$"
   ]
  },
  {
   "cell_type": "code",
   "execution_count": null,
   "metadata": {
    "collapsed": false,
    "scrolled": true
   },
   "outputs": [],
   "source": [
    "def second_order_system_time_response(k,a,b,im):\n",
    "    \"\"\"Plots the zero/pole plot, the step response and the impulse response of a second order system.\"\"\"\n",
    "    if a!=b and im !=0:\n",
    "        print \"A real system can't have complex poles that are not each other's conjugates!!!\"\n",
    "    else:\n",
    "        TF = TransferFunction([k,],[1,-real(((a+im*1j)+(b-im*1j))),real(a*b-(im*1j)**2)])\n",
    "        print \"H(s)= \"\n",
    "        print \n",
    "        print TF\n",
    "        t_step,y_step=step_response(TF)\n",
    "        t_impulse,y_impulse=impulse_response(TF)\n",
    "        sse= calculate_steady_state(TF)\n",
    "        rise_time = calculate_rise_time(y_step,t_step,sse)\n",
    "        settling_time = calculate_settling_time(y_step,t_step,sse)\n",
    "        print \"Rise time: \", rise_time if rise_time != None else \"Not defined\"\n",
    "        print \"Settling time: \",settling_time if settling_time != None else \"Not defined\"\n",
    "        draw(t_step,y_step,t_impulse,y_impulse,sse,rise_time,settling_time,TF)\n",
    "        \n",
    "        \n",
    "        \n",
    "interact(second_order_system_time_response,k=(0.001,100,1),a=(-50,50,1),b=(-50,50,1),im=(-50,50,1))"
   ]
  },
  {
   "cell_type": "code",
   "execution_count": null,
   "metadata": {
    "collapsed": false,
    "scrolled": true
   },
   "outputs": [],
   "source": []
  },
  {
   "cell_type": "code",
   "execution_count": null,
   "metadata": {
    "collapsed": true,
    "scrolled": true
   },
   "outputs": [],
   "source": []
  }
 ],
 "metadata": {
  "kernelspec": {
   "display_name": "Python 2",
   "language": "python",
   "name": "python2"
  },
  "language_info": {
   "codemirror_mode": {
    "name": "ipython",
    "version": 2
   },
   "file_extension": ".py",
   "mimetype": "text/x-python",
   "name": "python",
   "nbconvert_exporter": "python",
   "pygments_lexer": "ipython2",
   "version": "2.7.9"
  }
 },
 "nbformat": 4,
 "nbformat_minor": 0
}
