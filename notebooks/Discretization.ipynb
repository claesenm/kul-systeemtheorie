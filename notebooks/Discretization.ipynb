{
 "cells": [
  {
   "cell_type": "markdown",
   "metadata": {},
   "source": [
    "# Discretization"
   ]
  },
  {
   "cell_type": "markdown",
   "metadata": {},
   "source": [
    "This demo shows the effect of the sampling time in the different discretization methods on zero-pole plots and bode-plots. In each of the parts below, one specific discretization method is used and visualised. You just have to run the code by pressing 'Shift'+'Enter' (but first you have to run this cell to import the necessary packages)."
   ]
  },
  {
   "cell_type": "code",
   "execution_count": null,
   "metadata": {
    "collapsed": false
   },
   "outputs": [],
   "source": [
    "%matplotlib inline \n",
    "from IPython.html.widgets import *\n",
    "from Discretization import *"
   ]
  },
  {
   "cell_type": "markdown",
   "metadata": {},
   "source": [
    "# Forward Euler"
   ]
  },
  {
   "cell_type": "markdown",
   "metadata": {},
   "source": [
    "The forward euler method is based on the approximation of the integral by holding the value of the beginning of the interval for the entire time interval.<img src=\"f_euler.png\" height=\"250\" width=\"250\">\n",
    "Numerically, this method subsitutes every s in the continuous-time transfer function to $$s \\leftarrow \\frac{z-1}{T_s},$$ where $T_s$ is the sampling time.<br\\>\n",
    "**Stability**: the left half-plane in continuous-time (stable) is projected on the following part of the plane: <img src=\"F_euler_stability.png\" height=\"250\" width=\"250\">\n",
    "This way, the system may become unstable."
   ]
  },
  {
   "cell_type": "code",
   "execution_count": null,
   "metadata": {
    "collapsed": false,
    "scrolled": false
   },
   "outputs": [],
   "source": [
    "def draw(Ts):\n",
    "    sysd=sys.sample(Ts,'euler')\n",
    "    draw_zp(sys,sysd)\n",
    "    draw_bode(sys,sysd)\n",
    "\n",
    "go = False\n",
    "while go == False:\n",
    "    Num,Denom = init()\n",
    "    sys = TransferFunction(Num,Denom)\n",
    "    print 'The transfer function is :', sys\n",
    "    go = check()\n",
    "interact(draw,Ts=(0.1,3,0.1))"
   ]
  },
  {
   "cell_type": "markdown",
   "metadata": {},
   "source": [
    "# Backward Euler"
   ]
  },
  {
   "cell_type": "markdown",
   "metadata": {},
   "source": [
    "The backward euler method is based on the approximation of the integral by holding the value of the end of the interval for the entire time interval.<img src=\"b_euler.png\" height=\"250\" width=\"250\">\n",
    "This method substitutes every s in the continuous-time transfer function with $$s \\leftarrow \\frac{z-1}{T_s z},$$ where $T_s$ is the sampling time.<br\\>\n",
    "**Stability**: the left half-plane in continuous-time (stable) is projected on the following part of the plane: <img src=\"B_euler_stability.png\" height=\"250\" width=\"250\">\n",
    "This way, the system is conservative and has a lot of distorion. Also, the number of degrees of freedom decreases."
   ]
  },
  {
   "cell_type": "code",
   "execution_count": null,
   "metadata": {
    "collapsed": false,
    "scrolled": false
   },
   "outputs": [],
   "source": [
    "def draw(Ts):\n",
    "    sysd=sys.sample(Ts,'backward_diff')\n",
    "    draw_zp(sys,sysd)\n",
    "    draw_bode(sys,sysd)\n",
    "\n",
    "go = False\n",
    "while go == False:\n",
    "    Num,Denom = init()\n",
    "    sys = TransferFunction(Num,Denom)\n",
    "    print 'The transfer function is :', sys\n",
    "    go = check()\n",
    "interact(draw,Ts=(0.1,3,0.1))"
   ]
  },
  {
   "cell_type": "markdown",
   "metadata": {},
   "source": [
    "# Bilinear transform"
   ]
  },
  {
   "cell_type": "markdown",
   "metadata": {},
   "source": [
    "The bilinear transform without prewarping is based on the approximation of the integral by holding the average of the value of the beginning of the interval and the value of the end of the interval for the entire time interval.<img src=\"bilinear.png\" height=\"330\" width=\"330\">\n",
    "Numerically, this method subsitutes every s in the continuous-time transfer function to $$s \\leftarrow \\frac{2}{T_s} \\frac{z-1}{z+1},$$ where $T_s$ is the sampling time.<br\\>\n",
    "**Stability**: the left half-plane in continuous-time (stable) is projected on the following part of the plane: <img src=\"bilinear_stability.png\" height=\"250\" width=\"250\">\n",
    "This way, the system is mapped unambiguously into the unit circle. There is still some distortion, because the entire $j\\omega$ axis is compressed into the $2\\pi$ length of the unit circle. <br\\><br\\>\n",
    "\n",
    "The bilinear transform with prewarping (and prewarping frequence $\\omega_0$) every s is substituted with $$\\frac{\\omega_0}{tan\\Big(\\frac{\\omega_0T_s}{2}\\Big)} \\frac{z-1}{z+1}.$$ This method is used when you are interested in a certain frequency."
   ]
  },
  {
   "cell_type": "code",
   "execution_count": null,
   "metadata": {
    "collapsed": false
   },
   "outputs": [],
   "source": [
    "def draw(Ts):\n",
    "    if f == 0:\n",
    "        sysd = sys.sample(Ts,'bilinear')\n",
    "    else:\n",
    "        sysd = find_sysd_prew(sys,f,Ts)\n",
    "    draw_zp(sys,sysd)\n",
    "    draw_bode(sys,sysd)\n",
    "    \n",
    "go = False\n",
    "while go == False:\n",
    "    Num,Denom = init()\n",
    "    sys = TransferFunction(Num,Denom)\n",
    "    print 'The transfer function is :', sys\n",
    "    go = check()\n",
    "prew = None\n",
    "while prew != 'Y' and prew != 'y' and prew != 'N' and prew != 'n':\n",
    "    prew = raw_input('With prewarping? (Y/N) ')\n",
    "if prew == 'Y' or prew == 'y':\n",
    "    f = raw_input('What is the prewarping frequency?')\n",
    "else:\n",
    "    f = 0\n",
    "interact(draw,Ts=(0.1,3,0.1))"
   ]
  },
  {
   "cell_type": "markdown",
   "metadata": {},
   "source": [
    "# Impulse invariant method"
   ]
  },
  {
   "cell_type": "markdown",
   "metadata": {},
   "source": [
    "For the impulse invariant method, you need to take the Partial fraction decomposition of the continuous-time transfer function, and each of the terms has to be converted using the next table:<br />\n",
    "\n",
    "  |$H_c(s)$                     | $H_d(z)$                                     |\n",
    "  |:------------------------------:|:--------------------------------------------:|\n",
    "  |$\\qquad \\frac{c}{s-b} \\qquad$              | $\\qquad \\frac{T_scz}{z-a} \\qquad$                          |\n",
    "  |$\\qquad \\frac{c}{(s-b)^2} \\qquad \\qquad$          | $\\qquad \\frac{T_scaz}{(z-a)^2} \\qquad$                     |\n",
    "  |$\\qquad \\frac{c}{(s-b)^3} \\qquad \\qquad$          | $\\qquad \\frac{T_s^3c(az^2+a^2z)}{2(z-a)^3} \\qquad$         |\n",
    "  |$\\qquad \\frac{c}{(s-b)^4} \\qquad \\qquad$          | $\\quad \\frac{T_s^4c(az^3+4a^2z^2+a^3z)}{6(z-a)^4} \\qquad \\quad$ |\n",
    "where $a = e^{bT_s}$.<br\\>\n",
    "This method is used when you want the discrete-time system to have the same impulse response as the continuous-time system at the sampling instants."
   ]
  },
  {
   "cell_type": "code",
   "execution_count": null,
   "metadata": {
    "collapsed": false,
    "scrolled": false
   },
   "outputs": [],
   "source": [
    "def draw(Ts):\n",
    "    sysd=find_sysd_impulse(Ts,sys)\n",
    "    draw_zp(sys,sysd)\n",
    "    draw_bode(sys,sysd)\n",
    "\n",
    "go = False\n",
    "while go == False:\n",
    "    Num,Denom = init()\n",
    "    sys = TransferFunction(Num,Denom)\n",
    "    print 'The transfer function is :', sys\n",
    "    go = check()\n",
    "interact(draw,Ts=(0.1,3,0.1))"
   ]
  },
  {
   "cell_type": "markdown",
   "metadata": {},
   "source": [
    "# Step invariant method"
   ]
  },
  {
   "cell_type": "markdown",
   "metadata": {},
   "source": [
    "In this method, the discrete-time transfer function is calculated as follows:\n",
    "$$H_c(s)=(1-z^{-1})\\mathcal{Z}\\Big\\{\\frac{H(s)}{s}\\Big\\}.$$\n",
    "This method is used when you want the discrete-time system to have the same step response as the continuous-time system at the sampling instants."
   ]
  },
  {
   "cell_type": "code",
   "execution_count": null,
   "metadata": {
    "collapsed": false
   },
   "outputs": [],
   "source": [
    "def draw(Ts):\n",
    "    sysd=sys.sample(Ts,'zoh')\n",
    "    draw_zp(sys,sysd)\n",
    "    draw_bode(sys,sysd)\n",
    "\n",
    "go = False\n",
    "while go == False:\n",
    "    Num,Denom = init()\n",
    "    sys = TransferFunction(Num,Denom)\n",
    "    print 'The transfer function is :', sys\n",
    "    go = check()\n",
    "interact(draw,Ts=(0.1,3,0.1))"
   ]
  },
  {
   "cell_type": "markdown",
   "metadata": {},
   "source": [
    "# Zero-pole matching"
   ]
  },
  {
   "cell_type": "markdown",
   "metadata": {},
   "source": [
    "In this method, for every pole $s = -a$ in the continuous-time transfer function, there is a pole $z=e^{-aT_s}$ in discrete time. Similarly, for every zero $s=-b$, there is a zero $z=e^{-bT_s}$ and for every zero $s=\\infty$, there is a zero $z=-1$. The gain is calculated by demanding the following: $|H_c(s=0)| = |H_d(z=1)|$."
   ]
  },
  {
   "cell_type": "code",
   "execution_count": null,
   "metadata": {
    "collapsed": false
   },
   "outputs": [],
   "source": [
    "def draw(Ts):\n",
    "    sysd = find_sysd_matched(Ts,sys)\n",
    "    draw_zp(sys,sysd)\n",
    "    draw_bode(sys,sysd)\n",
    "\n",
    "go = False\n",
    "while go == False:\n",
    "    Num,Denom = init()\n",
    "    print 'n/d: ', Num, Denom\n",
    "    sys = TransferFunction(Num,Denom)\n",
    "    print 'The transfer function is :', sys\n",
    "    go = check()\n",
    "interact(draw,Ts=(0.1,3,0.1))"
   ]
  },
  {
   "cell_type": "code",
   "execution_count": null,
   "metadata": {
    "collapsed": true
   },
   "outputs": [],
   "source": []
  }
 ],
 "metadata": {
  "kernelspec": {
   "display_name": "Python 2",
   "language": "python",
   "name": "python2"
  },
  "language_info": {
   "codemirror_mode": {
    "name": "ipython",
    "version": 2
   },
   "file_extension": ".py",
   "mimetype": "text/x-python",
   "name": "python",
   "nbconvert_exporter": "python",
   "pygments_lexer": "ipython2",
   "version": "2.7.10"
  }
 },
 "nbformat": 4,
 "nbformat_minor": 0
}
