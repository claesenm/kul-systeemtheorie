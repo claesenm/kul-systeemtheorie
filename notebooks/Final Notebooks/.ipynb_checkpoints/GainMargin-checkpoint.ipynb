{
 "cells": [
  {
   "cell_type": "markdown",
   "metadata": {},
   "source": [
    "# Gain margin\n",
    "The gain margin is defined as $-20 log_{10}(\\mid P(j\\omega_{\\pi})C(j\\omega_{\\pi}) \\mid)$ with $\\omega_{\\pi}$ the Gain Crossover Frequency (GCF). This is the phase for which $P(j\\omega)C(j\\omega)$ passes through -180° i.e. the amount of extra gain you can allow before instability occurs.\n",
    "<img src=\"feedback_pitch2.png\">"
   ]
  },
  {
   "cell_type": "markdown",
   "metadata": {},
   "source": [
    "## How to see gain margin on bode plot\n",
    "1) Determine at which frequency ($\\omega$) the phase of $P(j\\omega)C(j\\omega)$ becomes -180°. <br>\n",
    "2) Determine at that frequency the magnitude. <br>\n",
    "$\\Rightarrow$ The difference between that magnitude and 0 dB is the gain margin."
   ]
  },
  {
   "cell_type": "code",
   "execution_count": null,
   "metadata": {
    "collapsed": false
   },
   "outputs": [],
   "source": [
    "from GainMargin import *\n",
    "%matplotlib inline\n",
    "# Enter the numerator\n",
    "num = [1]\n",
    "# Enter the denominator\n",
    "den = [1,2,2,1]\n",
    "# Makes a transfer function with the given numerator and denominator\n",
    "TF = control.TransferFunction(num,den)\n",
    "print TF\n",
    "# Makes a system with the given transfer function\n",
    "sys = control.tf(num,den)\n",
    "# Calculate gain margin, phase margin, frequency at which the amplitude \n",
    "# of P(jw)C(jw) becomes 0 db, frequency at which the phase of P(jw)C(jw) becomes -180°\n",
    "gm, pm, Wcg, Wcp = control.margin(sys)\n",
    "# Draws bode plot of given function\n",
    "control.bode(TF,dB=True)\n",
    "if (gm != None):\n",
    "    draw_lines(gm, pm, Wcg, Wcp)\n",
    "show()\n",
    "if gm != None:\n",
    "    result = round(20*log10(gm),1) \n",
    "    if result <0:\n",
    "        ans = \"This feedback system is not stable\"\n",
    "    else:\n",
    "        ans = \"The gain margin of this system is %s dB \"  % round(20*log10(gm),1)\n",
    "else:\n",
    "    ans = \"The gain margin of this system is infinity \"\n",
    "print ans"
   ]
  },
  {
   "cell_type": "markdown",
   "metadata": {},
   "source": [
    "## How to see the gain margin on Nyquist Plot\n",
    "Determine the intersection of the x-axis and the Nyquist-plot. Lets call $a$ the distance between this intersect and the origin.<br>\n",
    "$\\Rightarrow$ The gain margin is the $ 20 log_{10}(1/a) = - 20 log_{10}(a) $ . \n"
   ]
  },
  {
   "cell_type": "code",
   "execution_count": null,
   "metadata": {
    "collapsed": false
   },
   "outputs": [],
   "source": [
    "# Draw Nyquist plot\n",
    "control.nyquist(sys)\n",
    "plt.axis('equal')\n",
    "if gm != None:\n",
    "    plt.plot([0,-1/gm],[0,0],'m',linewidth=5)\n",
    "    ax = plt.subplot(1,1,1)\n",
    "    ax.text(-1/(2*gm),0.15,'a',fontsize=20,color='magenta')\n",
    "# Draw unit circle and x and y axis\n",
    "draw_unit_circle()\n",
    "show()"
   ]
  },
  {
   "cell_type": "code",
   "execution_count": null,
   "metadata": {
    "collapsed": true
   },
   "outputs": [],
   "source": []
  }
 ],
 "metadata": {
  "kernelspec": {
   "display_name": "Python 2",
   "language": "python",
   "name": "python2"
  },
  "language_info": {
   "codemirror_mode": {
    "name": "ipython",
    "version": 2
   },
   "file_extension": ".py",
   "mimetype": "text/x-python",
   "name": "python",
   "nbconvert_exporter": "python",
   "pygments_lexer": "ipython2",
   "version": "2.7.10"
  }
 },
 "nbformat": 4,
 "nbformat_minor": 0
}
