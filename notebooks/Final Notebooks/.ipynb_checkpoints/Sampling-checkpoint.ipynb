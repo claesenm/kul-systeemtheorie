{
 "cells": [
  {
   "cell_type": "markdown",
   "metadata": {},
   "source": [
    "# Sampling\n",
    "By sampling, a continuous signal is transformed to a discrete signal. The original signal is replaced by an (rescaled) impulse train. The value of the impulse at moment kT equals the value of f(kT).<br>\n",
    "It's important to choose a good sampling rate.<br>\n",
    "If the sampling rate is to fast, the signal is hardly changed and we have an overhead of samples.<br>\n",
    "If the sampling rate is to slow, we cann't reconstruct the original signal."
   ]
  },
  {
   "cell_type": "markdown",
   "metadata": {},
   "source": [
    "## Signal\n",
    "Choose a signal of the list, adjust the signal and run (\"Ctrl+Enter\" or \"Shift+Enter\")."
   ]
  },
  {
   "cell_type": "code",
   "execution_count": null,
   "metadata": {
    "collapsed": false
   },
   "outputs": [],
   "source": [
    "from sampling import *\n",
    "%matplotlib inline\n",
    "display(box)"
   ]
  },
  {
   "cell_type": "markdown",
   "metadata": {},
   "source": [
    "## Fourier Transform\n",
    "In this section we calculate the fourier transform of the signal. There might be small errors in the fourier transform due to numerical errors and the fact that you cann't represent a continue signal in a computer. "
   ]
  },
  {
   "cell_type": "code",
   "execution_count": null,
   "metadata": {
    "collapsed": false
   },
   "outputs": [],
   "source": [
    "from sampling import y_signal,t_signal,left\n",
    "if left:\n",
    "    y_signalf = (1./Fs)* fourier.fftshift(fourier.fft(y_signal))\n",
    "else:\n",
    "    y_signalf = (1./Fs)* fourier.fftshift(fourier.fft(fourier.ifftshift(y_signal)))\n",
    "t_signalf = np.linspace(-Fs/2.,Fs/2.,N)\n",
    "draw_fourier_transform(t_signalf,y_signalf,True)"
   ]
  },
  {
   "cell_type": "markdown",
   "metadata": {},
   "source": [
    "## Sampling rate\n",
    "Choose the sampling rate of the signal. Make sure that the sampling frequention is bigger than two times the bandwidth. The actual sampling rate equals $2^{f_s}$."
   ]
  },
  {
   "cell_type": "code",
   "execution_count": null,
   "metadata": {
    "collapsed": false
   },
   "outputs": [],
   "source": [
    "widgets.interact(sampling_dirac,f_s=(1,10))"
   ]
  },
  {
   "cell_type": "markdown",
   "metadata": {},
   "source": [
    "## Sampling in discrete time\n",
    "We now sample the original signal. We multiply the original signal and the impulse train. "
   ]
  },
  {
   "cell_type": "code",
   "execution_count": null,
   "metadata": {
    "collapsed": false
   },
   "outputs": [],
   "source": [
    "from sampling import y_signal,t_signal,y_dirac\n",
    "dis_t = y_dirac * y_signal\n",
    "draw_sampeled_signal(t_signal,dis_t)\n",
    "\n"
   ]
  },
  {
   "cell_type": "markdown",
   "metadata": {},
   "source": [
    "## Sampling in fourier spectrum\n",
    "The multiplication in the time spectrum becomes a convolution in the fourier spectrum. If the sampling rate was too slow, overlap will occur. "
   ]
  },
  {
   "cell_type": "code",
   "execution_count": null,
   "metadata": {
    "collapsed": false
   },
   "outputs": [],
   "source": [
    "from sampling import y_diracf\n",
    "samplef = sig.fftconvolve(y_diracf,y_signalf,'same')\n",
    "\n",
    "ct = np.linspace(-Fs/(2.0), Fs/(2.),N)\n",
    "draw_fourier_transform(ct,samplef)"
   ]
  },
  {
   "cell_type": "markdown",
   "metadata": {},
   "source": [
    "## Reconstruction\n",
    "Now we try to reconstruct the original signal using the calculated samples (this may take a while)."
   ]
  },
  {
   "cell_type": "code",
   "execution_count": null,
   "metadata": {
    "collapsed": false
   },
   "outputs": [],
   "source": [
    "from sampling import t_signal,f_bem,xmin,xmax\n",
    "w_0 = 2*np.pi*f_bem\n",
    "reconstruct = np.sin(w_0*t_signal/2)/(w_0*t_signal/2)\n",
    "res = sig.fftconvolve(dis_t,reconstruct,'same')\n",
    "res_ok = np.where(False == np.isnan(res))\n",
    "plt.plot(t_signal,res)\n",
    "plt.xlim(xmin,xmax)\n",
    "plt.xlabel('t')\n",
    "plt.ylabel('y(t)')\n",
    "plt.show()"
   ]
  },
  {
   "cell_type": "code",
   "execution_count": null,
   "metadata": {
    "collapsed": true
   },
   "outputs": [],
   "source": []
  }
 ],
 "metadata": {
  "kernelspec": {
   "display_name": "Python 2",
   "language": "python",
   "name": "python2"
  },
  "language_info": {
   "codemirror_mode": {
    "name": "ipython",
    "version": 2
   },
   "file_extension": ".py",
   "mimetype": "text/x-python",
   "name": "python",
   "nbconvert_exporter": "python",
   "pygments_lexer": "ipython2",
   "version": "2.7.10"
  }
 },
 "nbformat": 4,
 "nbformat_minor": 0
}
