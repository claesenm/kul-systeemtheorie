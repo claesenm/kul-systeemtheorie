{
 "cells": [
  {
   "cell_type": "markdown",
   "metadata": {},
   "source": [
    "Before starting, you should run the cell below (\"Ctrl+Enter\" or \"Shift+Enter\") to import the necessary libraries."
   ]
  },
  {
   "cell_type": "code",
   "execution_count": null,
   "metadata": {
    "collapsed": true
   },
   "outputs": [],
   "source": [
    "%matplotlib inline\n",
    "from Effect_of_time_constant_damping_and_natural_frequency import*"
   ]
  },
  {
   "cell_type": "markdown",
   "metadata": {},
   "source": [
    "#Effect of the time constant, natural frequency and damping ratio demo\n"
   ]
  },
  {
   "cell_type": "markdown",
   "metadata": {},
   "source": [
    "## First order system\n",
    "In this demo you can see what *the influence is of the time constant on standard first order systems*<br> \n",
    "$H(s)= \\large{\\frac{k}{\\tau s+1}}$ (with $\\tau$ the symbol for time constant) $\\Rightarrow$ \n",
    "$h(t) = \\frac{k}{\\tau} e^{-\\frac{t}{\\tau}}$<br>\n",
    "The system has a pole in $\\frac{1}{\\tau}$.<br>\n",
    "If $\\tau$ goes to 0, the pole of the system moves to infinity and the step response goes faster to the steady state."
   ]
  },
  {
   "cell_type": "code",
   "execution_count": null,
   "metadata": {
    "collapsed": false
   },
   "outputs": [],
   "source": [
    "def first_order(k,tau):\n",
    "    TF=TransferFunction([k,],[tau,1])\n",
    "    print \"H(s) =\" \n",
    "    print TF\n",
    "    [mag,phase,wout] = bode(TF,Plot=False,dB=True)\n",
    "    ax = subplot(221)\n",
    "    pole_zero(TF)\n",
    "    ax.legend()\n",
    "    subplot(222)\n",
    "    t,y=step_response(TF,linspace(0,40,10**4))\n",
    "    title(\"Stepresponse\")\n",
    "    xlabel('t')\n",
    "    xlim([0,40])\n",
    "    ylabel('y(t)')\n",
    "    plot(t,y)\n",
    "    subplot(223)\n",
    "    bode_magnitude(wout,mag)\n",
    "    subplot(224)\n",
    "    bode_phase(wout,phase)\n",
    "    fig = gcf()\n",
    "    fig.set_size_inches(10,10)\n",
    "    show ()\n",
    "    \n",
    "interact(first_order,k=(1,100,1),tau=(0.1,10,0.1))"
   ]
  },
  {
   "cell_type": "markdown",
   "metadata": {
    "collapsed": true
   },
   "source": [
    "## Second order\n",
    "$H(s)=\\large{\\frac{\\omega_n ^2}{s^2 +2\\zeta\\omega_n+\\omega_n ^2}}$ (with $\\omega_n$ the natural frequency and\n",
    " $\\zeta$ the damping ratio).<br>\n",
    "A second order system always has 2 poles. \n",
    "- If $\\zeta < 1$ the poles are 2 complex conjugates.We call the system <b> underdamped</b> . The step response is oscillating and we can see a resonance effect on the Bode plot (= peak before it decays).\n",
    "- If $\\zeta = 1$, the poles are real and coincide. We call the system <b>critically damped</b>. There are no oscillations.\n",
    "- If $\\zeta > 1$, the 2 poles are real and don't coincide. The system is <b> overdamped</b>, there are no oscillations"
   ]
  },
  {
   "cell_type": "code",
   "execution_count": null,
   "metadata": {
    "collapsed": false
   },
   "outputs": [],
   "source": [
    "def second_order(zeta,natfreq):\n",
    "    TF=TransferFunction([natfreq**2,],[1,2*zeta*natfreq,natfreq**2])\n",
    "    print \"H(s) =\"  \n",
    "    print TF\n",
    "    [mag,phase,wout] = bode(TF,Plot=False,dB=True)\n",
    "    ax = subplot(221)\n",
    "    pole_zero(TF)\n",
    "    ax.legend()\n",
    "    subplot(222)\n",
    "    t,y=step_response(TF)\n",
    "    title(\"Stepresponse\")\n",
    "    xlabel('t')\n",
    "    ylabel('y(t)')\n",
    "    plot(t,y)\n",
    "    subplot(223)\n",
    "    bode_magnitude(wout,mag)\n",
    "    subplot(224)\n",
    "    bode_phase(wout,phase)\n",
    "    fig = gcf()\n",
    "    fig.set_size_inches(10,10)\n",
    "    show ()\n",
    "    \n",
    "interact(second_order,zeta=(0,3,0.01),natfreq=(1,100,5))"
   ]
  },
  {
   "cell_type": "code",
   "execution_count": null,
   "metadata": {
    "collapsed": false,
    "scrolled": true
   },
   "outputs": [],
   "source": []
  }
 ],
 "metadata": {
  "kernelspec": {
   "display_name": "Python 2",
   "language": "python",
   "name": "python2"
  },
  "language_info": {
   "codemirror_mode": {
    "name": "ipython",
    "version": 2
   },
   "file_extension": ".py",
   "mimetype": "text/x-python",
   "name": "python",
   "nbconvert_exporter": "python",
   "pygments_lexer": "ipython2",
   "version": "2.7.10"
  }
 },
 "nbformat": 4,
 "nbformat_minor": 0
}
