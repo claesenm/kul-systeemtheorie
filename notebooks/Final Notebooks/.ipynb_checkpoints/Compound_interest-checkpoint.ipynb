{
 "cells": [
  {
   "cell_type": "markdown",
   "metadata": {},
   "source": [
    "#  Compound interest"
   ]
  },
  {
   "cell_type": "markdown",
   "metadata": {},
   "source": [
    "This demo simulates a savings account with compound interest. (ref: 4.5: Block diagrams)<br>\n",
    "<img src = 'compound_interest.png'> <br>\n",
    "$u[k]$: The deposits and withdrawals from the bank account <br>\n",
    "$x[k]$: The current balance of the bank account(before deposit and interest) <br>\n",
    "$y[k]$: The acquired interest of the year k <br>\n",
    "$x[k+1]$: The 'next year' balance of the bank account  = current balance + interest + deposits - withdrawals <br>\n",
    "$c$: Interest rate<br><br>\n",
    "Before starting, you should run the first cell to import the necessary libraries (\"Ctrl+Enter\" or \"Shift+Enter\")."
   ]
  },
  {
   "cell_type": "code",
   "execution_count": null,
   "metadata": {
    "collapsed": false
   },
   "outputs": [],
   "source": [
    "from Compound_interest import *\n",
    "r = input_handler_r()"
   ]
  },
  {
   "cell_type": "code",
   "execution_count": null,
   "metadata": {
    "collapsed": false,
    "scrolled": true
   },
   "outputs": [],
   "source": [
    "%matplotlib inline\n",
    "going = True\n",
    "# Initializing intitial conditions.\n",
    "y_k = [0.0]\n",
    "x_k = [0.0]\n",
    "u_k = []\n",
    "x_k_1 = []\n",
    "#Keep going as long as the user want it.\n",
    "while going:\n",
    "    current_u_k = input_handler_u(x_k,y_k)\n",
    "    u_k.append(current_u_k)\n",
    "    # Calculate next year value\n",
    "    x_k_1.append(u_k[-1] + x_k[-1] + y_k[-1])\n",
    "    print round(u_k[-1],2),round(x_k_1[-1],2),round(x_k[-1],2),round(y_k[-1],2)\n",
    "    # draw result\n",
    "    generate_result(u_k,x_k,x_k_1,y_k)\n",
    "    # The next value of x[k] will be the current value of x[k+1]\n",
    "    x_k.append(x_k_1[-1])\n",
    "    # The next value of y[k] will be r times the next value of x[k]\n",
    "    y_k.append(r*x_k[-1])\n",
    "    going = input_handler_keep_going()"
   ]
  },
  {
   "cell_type": "code",
   "execution_count": null,
   "metadata": {
    "collapsed": true
   },
   "outputs": [],
   "source": []
  }
 ],
 "metadata": {
  "kernelspec": {
   "display_name": "Python 2",
   "language": "python",
   "name": "python2"
  },
  "language_info": {
   "codemirror_mode": {
    "name": "ipython",
    "version": 2
   },
   "file_extension": ".py",
   "mimetype": "text/x-python",
   "name": "python",
   "nbconvert_exporter": "python",
   "pygments_lexer": "ipython2",
   "version": "2.7.10"
  }
 },
 "nbformat": 4,
 "nbformat_minor": 0
}
