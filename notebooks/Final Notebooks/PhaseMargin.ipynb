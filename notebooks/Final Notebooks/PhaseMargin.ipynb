{
 "cells": [
  {
   "cell_type": "code",
   "execution_count": null,
   "metadata": {
    "collapsed": true
   },
   "outputs": [],
   "source": [
    "from phase_margin import *\n",
    "%matplotlib inline\n",
    "###This are the imported packages. Before starting, you should run this cell!"
   ]
  },
  {
   "cell_type": "markdown",
   "metadata": {},
   "source": [
    "#Phase margin demo\n",
    "\n",
    "This notebook is designed to make the students learn about the phase margin of a proportional controller. It will show how to calculate the phase margin with a Bode plot and Nyquist diagram. \n",
    "<br>\n",
    "\n",
    "\n",
    "<img src='feedback_pitch2.png'>    "
   ]
  },
  {
   "cell_type": "markdown",
   "metadata": {},
   "source": [
    "The phase margin is the difference between the angle at the the frequency, at which the magnitude is equal to $0 dB$ (= when $|P(jw_0)C(jw_0)|=1$), and $-180°$.\n",
    "<br>\n",
    "You can see this on the Bode plot and on the Nyquist plot:\n",
    "<br>\n",
    " - On the Bode plot you just look at what frequency the magnitude plot is $0 dB$  and see what the difference is between the angle at that frequency and $-180°$.\n",
    " - At the Nyquist plot you calculate the argument that the Nyquist diagram makes with the unity circle.\n",
    "<br>\n",
    "<br> For $H(s)= \\frac{1}{s^2+s}$ is this for example $52°$"
   ]
  },
  {
   "cell_type": "code",
   "execution_count": null,
   "metadata": {
    "collapsed": false
   },
   "outputs": [],
   "source": [
    "num = [1]\n",
    "den = [1,1,0]\n",
    "TF = control.TransferFunction(num,den)\n",
    "#Draw bode diagram\n",
    "control.bode(TF,dB=True)\n",
    "#Draw some additional lines\n",
    "draw_lines_bode(TF)\n",
    "plt.show ()\n",
    "#Draw Nyquist plot\n",
    "control.nyquist_plot(TF,Plot=True, color='b', labelFreq=0)\n",
    "#Draw some additional line\n",
    "draw_lines_nyquist(TF)\n",
    "plt.show ()\n"
   ]
  },
  {
   "cell_type": "markdown",
   "metadata": {},
   "source": [
    "We calculated the phase margin at the beginning, when there was no controller yet. A proportional controller $C(s)$ has a certain constant value $K$, that has an influence on the magnitude plot. (But not on the phase plot!)\n",
    "<br>\n",
    "A design objective can be: \n",
    "\"Design the controller in order that there is at least 30° degrees phase margin.\"\n",
    "<br>\n",
    "<br>\n",
    "If we look at $H(s)= \\frac{1}{(s^2+s)}$ again and we want at least $30°$ phase margin, the maximum value for $K$ is $3.46$. \n",
    "To find this value, determine on the phase plot the frequency at which the phase plot equals $-150°$. Then, see what the amplitude at that frequency is. With that amplitude,$ K$ can easily be calculated. Since the $amplitude = 20*log_{10}(K)$,    $K = 10^{\\frac{amplitude}{20}}$.\n",
    "\n",
    "<br> This gives $K=3.46$"
   ]
  },
  {
   "cell_type": "markdown",
   "metadata": {},
   "source": [
    "## Your turn"
   ]
  },
  {
   "cell_type": "markdown",
   "metadata": {
    "collapsed": true
   },
   "source": [
    "Let's try now to calculate the phase margin of a chosen transfer function. A hint, not all transfer functions have a phase margin, look carefull at the Bode plot first! Give in the coëfficiënts of the transfer function.          "
   ]
  },
  {
   "cell_type": "code",
   "execution_count": null,
   "metadata": {
    "collapsed": false
   },
   "outputs": [],
   "source": [
    "#These while-loops make sure that the user gives in the usefull input.\n",
    "\n",
    "#After plotting the transfer function, the user can see if it makes sense to continue \n",
    "#with the transfer function.\n",
    "#The next loops give the user the possibility to change his/her transfer function and always plots\n",
    "#the bode plot of the transfer function.\n",
    "YN = False\n",
    "while not YN:\n",
    "    Num = input_handler_lst(\"Enter the numerator of the transfer function(a_n*s^n+...+a_1*s+a_0 = a_n, ..., a_1, a_0 )= \")\n",
    "    DeNom = input_handler_lst(\"Enter the denominator of the transfer function(a_n*s^n+...+a_1*s+a_0 = a_n, ..., a_1, a_0 )= \")\n",
    "    if Num != [0] and DeNom != [0]:\n",
    "        TF_in = control.TransferFunction(Num,DeNom)\n",
    "        print \"Transfer function:\"\n",
    "        print TF_in\n",
    "        #Draw bode plot\n",
    "        control.bode(TF_in,dB=True)\n",
    "        #Draw some additional line\n",
    "        draw_lines_bode(TF_in)\n",
    "        plt.show ()\n",
    "        # Draw Nyquist plot\n",
    "        control.nyquist_plot(TF_in,Plot=True, color='b', labelFreq=0,omega=np.linspace(10**-1,10**2,10**5))\n",
    "        #Draw some additional line\n",
    "        draw_lines_nyquist(TF_in)\n",
    "        plt.show ()\n",
    "        print \"Not all transfer functions are necessarily good transfer functions.\"\n",
    "        YN = input_handler_y_n(\"So, do you want to continue with your given transfer function?(Y/N)\")\n",
    "    \n",
    "### The next command show the phasemargin to the user        \n",
    "GM,PM,X1,X2 = control.margin(TF_in)\n",
    "if PM == None:\n",
    "    print \n",
    "    print \"The phase margin is either very high, or not defined.\"\n",
    "else:\n",
    "    print \n",
    "    print \"The phase margin is, \",PM,\"°\""
   ]
  },
  {
   "cell_type": "markdown",
   "metadata": {},
   "source": [
    "In this section we calculate the maximum value of K such that a given phase margin is reached."
   ]
  },
  {
   "cell_type": "code",
   "execution_count": null,
   "metadata": {
    "collapsed": false
   },
   "outputs": [],
   "source": [
    "gm,pm,x1,x2 = control.margin(TF_in)\n",
    "mag_test,phase_test,omega_test= control.bode(TF_in,dB=True,Plot = False)\n",
    "# Determine the optimal values of omega and higher the number of samples\n",
    "mag_in, phase_in, omega_in = control.bode(TF_in,dB=True,Plot = False,omega= np.linspace(omega_test[0],omega_test[-1],10**5))\n",
    "# Desired phase margin\n",
    "wanted_margin = input_number(\"Enter the desired phase margin(in degree): \")\n",
    "K = None\n",
    "omega_res = passes_degree(phase_in,-(180-wanted_margin))\n",
    "if omega_res != None:\n",
    "    amp = -mag_in[omega_res]\n",
    "    # Calculate max value of K\n",
    "    K = 10.**(amp/20.)\n",
    "    print \n",
    "    print \"The maximum gain to maintain a phase margin of %s ° is\" %wanted_margin,round(K,2)\n",
    "else:\n",
    "    print \n",
    "    print \"Transfer function doesn't make sense\"\n",
    "if K != None:\n",
    "    # Draw moved\n",
    "    control.bode(K*TF_in,dB=True,color='#990000')\n",
    "    draw_lines_bode(K*TF_in)\n",
    "# Draw original bode plot\n",
    "control.bode(TF_in,dB=True)\n",
    "draw_lines_bode(TF_in)\n",
    "plt.show ()"
   ]
  },
  {
   "cell_type": "code",
   "execution_count": null,
   "metadata": {
    "collapsed": true
   },
   "outputs": [],
   "source": []
  }
 ],
 "metadata": {
  "kernelspec": {
   "display_name": "Python 2",
   "language": "python",
   "name": "python2"
  },
  "language_info": {
   "codemirror_mode": {
    "name": "ipython",
    "version": 2
   },
   "file_extension": ".py",
   "mimetype": "text/x-python",
   "name": "python",
   "nbconvert_exporter": "python",
   "pygments_lexer": "ipython2",
   "version": "2.7.10"
  }
 },
 "nbformat": 4,
 "nbformat_minor": 0
}
