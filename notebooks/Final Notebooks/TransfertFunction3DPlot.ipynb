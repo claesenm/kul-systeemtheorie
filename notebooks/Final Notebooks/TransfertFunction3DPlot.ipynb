{
 "cells": [
  {
   "cell_type": "markdown",
   "metadata": {},
   "source": [
    "# Transfer function  3D-Plot"
   ]
  },
  {
   "cell_type": "markdown",
   "metadata": {},
   "source": [
    "In this demo you can draw the 3d plot of a transfer function $$\\mid H(z)\\mid = \\frac{\\sum\\limits_{i= 0}^{n} b_i z^{i}}{\\sum\\limits_{i= 0}^{n} a_i z^{i}}$$\n",
    "In a pole (root of the denominator) the transfer function goes to infinity, in a zero (root of the numerator) the transfer function becomes 0.<br><br>\n",
    "To start, run the cell below (\"Ctrl+Enter\" or \"Shift+Enter\")."
   ]
  },
  {
   "cell_type": "code",
   "execution_count": null,
   "metadata": {
    "collapsed": false,
    "scrolled": false
   },
   "outputs": [],
   "source": [
    "from TransfertFunction3DPlot import *\n",
    "%matplotlib inline\n",
    "\n",
    "# A method for evaluating the transfer function using Horner scheme.\n",
    "def evaluate_fractional_polynomal(num,den,x,y):\n",
    "    Z = x + y*1j\n",
    "    numerator = num[0]\n",
    "    for k in range(1,len(num)):\n",
    "        numerator = (numerator * Z)+num[k]\n",
    "    denominator = den[0]\n",
    "    for l in range(1,len(den)):\n",
    "        denominator = (denominator*Z) + den[l]\n",
    "    if len(num) == 1 and len(den) == 1: \n",
    "        if not isinstance(Z[0],np.ndarray):\n",
    "            result = np.ones(len(Z))*(numerator/denominator)\n",
    "        else:\n",
    "            result = np.ones((len(Z),len(Z[0])))*(numerator/denominator)\n",
    "        return result\n",
    "    else:\n",
    "        return numerator/denominator\n",
    "\n",
    "# Handeling user input\n",
    "num,den = [0],[0]\n",
    "while num == [0] or den == [0]:\n",
    "    num = input_handler(\"Enter numerator(e.g. s^2 + s -> 1,1,0): \")\n",
    "    den = input_handler(\"Enter denominator(e.g. s^2 + s -> 1,1,0): \")\n",
    "# Calculation the zero and poles by converting transferfunction to zero pole representation. (ref: H5-Continu Time systems, Transfert Function)\n",
    "z,p,k = sig.tf2zpk(num,den)\n",
    "z,p = cround(z,3),cround(p,3)\n",
    "# Calculation optimal ranges for drawing\n",
    "x_min,x_max,y_min,y_max,z_min,z_max = dynamic_axis(z,p,k)\n",
    "X = np.arange(x_min, x_max, (x_max-x_min)/2.**10)\n",
    "Y = np.arange(y_min, y_max, (y_max-y_min)/2.**10)\n",
    "xx,yy = np.meshgrid(X,Y)\n",
    "# Evaluate function for the given points\n",
    "zz = np.abs(evaluate_fractional_polynomal(num,den,xx,yy))\n",
    "# We calculate the values of the points on the imaginairy axis\n",
    "x0 = np.zeros(2**10)\n",
    "y0 = np.arange(y_min, y_max, (y_max-y_min)/2.**10)\n",
    "z0 = np.abs(evaluate_fractional_polynomal(num,den,x0,y0))\n",
    "display_latex(TEXT1)\n",
    "# Draw the 3D plot with line on imaginary axis\n",
    "draw_3d_plot(xx,yy,zz,z_min,z_max,x0,y0,z0)\n",
    "# Draw line on the imaginary axis\n",
    "display_latex(TEXT2)\n",
    "draw_line(x0,y0,z0)\n",
    "# Draw line on the imaginary axis, changed view\n",
    "display_latex(TEXT3)\n",
    "draw_line(x0,y0,z0,True)\n",
    "# Calculate bode\n",
    "mag, phase,omega = control.bode(control.tf(num,den),omega=np.linspace(0,y_max,1000),dB=False,Plot=False)\n",
    "# Draw bode\n",
    "display_latex(TEXT4)\n",
    "draw_bode(omega,mag)\n",
    "plt.show()\n",
    "# Scale the x axis logaritmic\n",
    "display_latex(TEXT5)\n",
    "draw_bode(omega, mag,True)\n",
    "plt.show()\n",
    "# Scale the y axis to dB\n",
    "mag = 20 *np.log10(mag)\n",
    "display_latex(TEXT6)\n",
    "draw_bode(omega, mag,True,True)\n",
    "plt.show()\n"
   ]
  },
  {
   "cell_type": "code",
   "execution_count": null,
   "metadata": {
    "collapsed": true
   },
   "outputs": [],
   "source": []
  }
 ],
 "metadata": {
  "kernelspec": {
   "display_name": "Python 2",
   "language": "python",
   "name": "python2"
  },
  "language_info": {
   "codemirror_mode": {
    "name": "ipython",
    "version": 2
   },
   "file_extension": ".py",
   "mimetype": "text/x-python",
   "name": "python",
   "nbconvert_exporter": "python",
   "pygments_lexer": "ipython2",
   "version": "2.7.10"
  }
 },
 "nbformat": 4,
 "nbformat_minor": 0
}
