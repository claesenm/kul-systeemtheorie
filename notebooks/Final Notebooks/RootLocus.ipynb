{
 "cells": [
  {
   "cell_type": "code",
   "execution_count": null,
   "metadata": {
    "collapsed": false
   },
   "outputs": [],
   "source": [
    "%matplotlib inline\n",
    "from RootLocus import *"
   ]
  },
  {
   "cell_type": "markdown",
   "metadata": {
    "collapsed": false
   },
   "source": [
    "# Root locus\n",
    "## Open-loop system:\n",
    "$P(s) = \\frac{(s+1.5)}{s(s+1)(s+2)(s+4)} = \\frac{(s+1.5)}{s^4+7s^3+14s^2+8s}$.\n",
    "This system has a zero in -1.5 and poles in 0,-1, -2 and -4. The system is not BIBO-stable because not all the poles (s=0) are in the open left halfplane. The response on a step input is: <br> $Y(s) = P(s)  \\frac{1}{s} = \\frac{(s+1.5)}{s^2(s+1)(s+2)(s+4)} = \\frac{-5}{192}\\frac{1}{s+4}+\\frac{1}{16}\\frac{1}{s+2}+\\frac{1}{6}\\frac{1}{s+1} - \\frac{13}{64}\\frac{1}{s} + \\frac{3}{16}\\frac{1}{s^2} \\Rightarrow y(t) = \\frac{-5}{192} e^{-4t} + \\frac{1}{16} e^{-2t} + \\frac{1}{6} e^{-t} - \\frac{13}{64}  + \\frac{3}{16} t $ \n"
   ]
  },
  {
   "cell_type": "code",
   "execution_count": null,
   "metadata": {
    "collapsed": false
   },
   "outputs": [],
   "source": [
    "# Enter numerator\n",
    "num = [1,1.5]\n",
    "# Enter denominator\n",
    "den = [1,7,14,8,0]\n",
    "# Makes system\n",
    "sys = control.tf(num,den)\n",
    "# Draw step response: using http://python-control.sourceforge.net/manual/matlab_strings.html#matlab.step\n",
    "y,t = control.step(sys)\n",
    "plt.plot(t,y)\n",
    "plt.xlabel('t')\n",
    "plt.ylabel('y(t)')\n",
    "plt.show()\n",
    "# Defining P(s)*(1/s) and calculating the partial fraction decomposition\n",
    "# using scipy.signal.residu(num,den) -> \n",
    "# http://docs.scipy.org/doc/scipy-0.14.0/reference/generated/scipy.signal.residue.html\n",
    "imp_num = [1,1.5]\n",
    "imp_den = [1,7,14,8,0,0]\n",
    "print sig.residue(imp_num,imp_den)"
   ]
  },
  {
   "cell_type": "markdown",
   "metadata": {},
   "source": [
    "In the step respose we see clearly the term $t$ (caused by the pole in 0). We can see that a bounded input doesn't cause a bounded output (not BIBO)."
   ]
  },
  {
   "cell_type": "markdown",
   "metadata": {},
   "source": [
    "## Closed loop system\n",
    "<img scr=\"Afbeelding19.png\">\n",
    "The transfer function of the closed loop system: $\\frac{KP(s)}{1+KP(s)} = \\frac{K(s+1.5)}{s(s+1)(s+2)(s+4)+K(s+1.5)} $. For small K the poles of the closed loop system are the poles of the open loop system. When K goes to infinity the poles of the close loop system become the zeros of the open loop system. The root locus plots the poles of the closed loop transfer function in the complex plane as function of the gain parameter. Because we have 4 poles and only one zero we expect (4-1) = 3 asymptote to infinity. These asymptotes makes an angle of (360°/3)=120°."
   ]
  },
  {
   "cell_type": "code",
   "execution_count": null,
   "metadata": {
    "collapsed": false
   },
   "outputs": [],
   "source": [
    "# Draw root locus using http://python-control.sourceforge.net/manual/matlab_strings.html#matlab.rlocus\n",
    "control.root_locus(sys, np.linspace(0,60,3000),Plot=True)\n",
    "draw_axis()\n",
    "plt.show()"
   ]
  },
  {
   "cell_type": "markdown",
   "metadata": {},
   "source": [
    "For K = 31 the poles just inside the lefthalf plane. So the system is BIBO stable."
   ]
  },
  {
   "cell_type": "code",
   "execution_count": null,
   "metadata": {
    "collapsed": false
   },
   "outputs": [],
   "source": [
    "# Defining feedback system\n",
    "C = control.tf(31,1)\n",
    "# Using feedback according to http://nl.mathworks.com/help/control/examples/using-feedback-to-close-feedback-loops.html\n",
    "controled_sys = control.feedback(C*sys,1)\n",
    "poles = control.pole(controled_sys)\n",
    "plt.subplot(1,2,1)\n",
    "plt.plot(np.real(poles),np.imag(poles),'o')\n",
    "plt.xlim(-6,1)\n",
    "draw_axis()\n",
    "plt.xlabel('Real')\n",
    "plt.ylabel('Imaginary')\n",
    "print poles\n",
    "plt.subplot(1,2,2)\n",
    "draw_step_response_feedback(31,sys)\n",
    "fig = plt.gcf()\n",
    "fig.set_size_inches(15,5)\n",
    "plt.show()"
   ]
  },
  {
   "cell_type": "markdown",
   "metadata": {},
   "source": [
    "For K = 32 the poles are in the righthalf plane. The system is not stable anymore."
   ]
  },
  {
   "cell_type": "code",
   "execution_count": null,
   "metadata": {
    "collapsed": false
   },
   "outputs": [],
   "source": [
    "# Defining feedback system\n",
    "C = control.tf(32,1)\n",
    "# Using feedback according to http://nl.mathworks.com/help/control/examples/using-feedback-to-close-feedback-loops.html\n",
    "controled_sys = control.feedback(C*sys,1)\n",
    "poles = control.pole(controled_sys)\n",
    "print poles\n",
    "plt.subplot(1,2,1)\n",
    "plt.plot(np.real(poles),np.imag(poles),'o')\n",
    "draw_axis()\n",
    "plt.xlabel('Real')\n",
    "plt.ylabel('Imaginary')\n",
    "print poles\n",
    "plt.subplot(1,2,2)\n",
    "draw_step_response_feedback(32,sys)\n",
    "fig = plt.gcf()\n",
    "fig.set_size_inches(15,5)\n",
    "plt.show()"
   ]
  },
  {
   "cell_type": "markdown",
   "metadata": {},
   "source": [
    "For K < 1.3 the poles have onley a real part. So we expect only terms of the form $ \\alpha_i e^{-at}$ and $\\beta$  in the step input response. We have no sine or cosine in the step inpulse. But for bigger K e.g 15 we can see the sines and cosines(due to the imaginairy parts of the poles) in the step input response."
   ]
  },
  {
   "cell_type": "code",
   "execution_count": null,
   "metadata": {
    "collapsed": false
   },
   "outputs": [],
   "source": [
    "plt.subplot(1,2,1)\n",
    "draw_step_response_feedback(1,sys)\n",
    "plt.subplot(1,2,2)\n",
    "draw_step_response_feedback(15,sys)\n",
    "fig = plt.gcf()\n",
    "fig.set_size_inches(15, 5)\n",
    "plt.show()"
   ]
  },
  {
   "cell_type": "markdown",
   "metadata": {},
   "source": [
    "For small values of K the rise time is big. The bigger K the smaller the rise time."
   ]
  },
  {
   "cell_type": "markdown",
   "metadata": {},
   "source": [
    "## Your turn\n",
    "Use the slider to change the value of the gain."
   ]
  },
  {
   "cell_type": "code",
   "execution_count": null,
   "metadata": {
    "collapsed": false
   },
   "outputs": [],
   "source": [
    "from RootLocus import *\n",
    "# Enter numerator\n",
    "num_int = [1,1.5]\n",
    "# Enter denominator\n",
    "den_int = [1,7,14,8,0]\n",
    "# Makes system\n",
    "sys_int = control.tf(num_int,den_int)\n",
    "\n",
    "def poles(K):\n",
    "    C = control.tf(K,1)\n",
    "    controled_sys = control.feedback(C*sys_int,1)\n",
    "    poles_k = control.root_locus(sys_int, np.linspace(0,100,3000),Plot=False)\n",
    "    plt.subplot(121)\n",
    "    plot_root_locus(poles_k)\n",
    "    poles = control.pole(controled_sys)\n",
    "    plt.plot(np.real(poles),np.imag(poles),'or')\n",
    "    plt.subplot(122)\n",
    "    draw_step_response_feedback(K,sys_int)\n",
    "    fig = plt.gcf()\n",
    "    fig.set_size_inches(15,5)\n",
    "    plt.show()\n",
    "\n",
    "interact(poles,K=(0.1,100,0.1))"
   ]
  },
  {
   "cell_type": "code",
   "execution_count": null,
   "metadata": {
    "collapsed": true
   },
   "outputs": [],
   "source": []
  }
 ],
 "metadata": {
  "kernelspec": {
   "display_name": "Python 2",
   "language": "python",
   "name": "python2"
  },
  "language_info": {
   "codemirror_mode": {
    "name": "ipython",
    "version": 2
   },
   "file_extension": ".py",
   "mimetype": "text/x-python",
   "name": "python",
   "nbconvert_exporter": "python",
   "pygments_lexer": "ipython2",
   "version": "2.7.9"
  }
 },
 "nbformat": 4,
 "nbformat_minor": 0
}
