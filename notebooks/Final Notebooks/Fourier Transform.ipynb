{
 "cells": [
  {
   "cell_type": "markdown",
   "metadata": {},
   "source": [
    "# Fourier transform<br\\>\n",
    "$$F(f) = \\int_{-\\infty}^{\\infty} f(\\tau)e^{-2\\pi f j \\tau} d\\tau$$<br>\n",
    "In the parts below, you can see the effect of amplitude, width, frequency, etc. on the Fourier transform of different functions.<br>\n",
    "First, run the cell below (\"Ctrl+Enter\" or \"Shift+Enter\") to import necessary libraries and initialize the notebook."
   ]
  },
  {
   "cell_type": "code",
   "execution_count": null,
   "metadata": {
    "collapsed": false
   },
   "outputs": [],
   "source": [
    "from Fourier_transform import *\n",
    "%matplotlib inline\n",
    "Fs = 2.**15\n",
    "N = 2.**20"
   ]
  },
  {
   "cell_type": "markdown",
   "metadata": {},
   "source": [
    "## Sine function\n",
    "$$\n",
    "\\mbox{Signal: }\\sin{(2\\pi f_0 t)} = \\frac{e^{2\\pi f_0 j t} - e^{-2\\pi f_0 j t}}{2j} \\\\\n",
    "\\\\\n",
    "\\begin{align*}\n",
    "\\mbox{Fourier Transform: } F(f) &= \\int_{-\\infty}^{\\infty} \\frac{e^{2\\pi f_0 j \\tau} - e^{-2\\pi f_0 j \\tau}}{2j} e^{-2\\pi f j \\tau}d\\tau \\\\\n",
    "&= \\frac{-j}{2} \\int_{-\\infty}^{\\infty} e^{-2\\pi j \\tau (f-f_0)} - e^{-2\\pi j \\tau (f+f_0)} \\\\\n",
    "&= \\frac{j}{2} \\Big(\\delta(f+f_0) - \\delta(f-f_0)\\Big)\n",
    "\\end{align*}\n",
    "$$"
   ]
  },
  {
   "cell_type": "code",
   "execution_count": null,
   "metadata": {
    "collapsed": false
   },
   "outputs": [],
   "source": [
    "# Defining sine and Fourier transform.\n",
    "def sine(f):\n",
    "    t = np.linspace(-N/(2*Fs),N/(2*Fs),N)\n",
    "    y = np.sin(2*np.pi *f*t)\n",
    "    draw(t,y,[-2*f,-f,-f,-f,f,f,f,2*f],[0,0,.5,0,0,-.5,0,0],t_lim= (-1,1),yw_lim=(-.6,.6))\n",
    "   \n",
    "interact(sine,f=(1,100))"
   ]
  },
  {
   "cell_type": "markdown",
   "metadata": {},
   "source": [
    "## Cosine function\n",
    "$$\n",
    "\\mbox{Signal: }\\cos{(2\\pi f_0 t)} = \\frac{e^{2\\pi f_0 j t} + e^{-2\\pi f_0 j t}}{2} \\\\\n",
    "\\\\\n",
    "\\begin{align*}\n",
    "\\mbox{Fourier Transform: } F(f) &= \\int_{-\\infty}^{\\infty} \\frac{e^{2\\pi f_0 j \\tau} + e^{-2\\pi f_0 j \\tau}}{2} e^{-2\\pi f j \\tau}d\\tau \\\\\n",
    "&= \\frac{1}{2} \\int_{-\\infty}^{\\infty} e^{-2\\pi j \\tau (f-f_0)} + e^{-2\\pi j \\tau (f+f_0)} \\\\\n",
    "&= \\frac{1}{2} \\Big(\\delta(f+f_0) + \\delta(f-f_0)\\Big)\n",
    "\\end{align*}\n",
    "$$"
   ]
  },
  {
   "cell_type": "code",
   "execution_count": null,
   "metadata": {
    "collapsed": false
   },
   "outputs": [],
   "source": [
    "def cosine(f):\n",
    "    t = np.linspace(-N/(2*Fs),N/(2*Fs),N)\n",
    "    y = np.cos(2*np.pi *f*t)\n",
    "    draw(t,y,[-2*f,-f,-f,-f,f,f,f,2*f],[0,0,.5,0,0,.5,0,0],t_lim = (-1,1),yw_lim=(0,.6))\n",
    "\n",
    "interact(cosine,f=(1,100))"
   ]
  },
  {
   "cell_type": "markdown",
   "metadata": {},
   "source": [
    "## Impulse\n",
    "$$\n",
    "\\mbox{Signal: }\\delta(t-t_0) \\\\\n",
    "\\mbox{Fourier Transform: } F(f) = e^{-2\\pi j f t_0}\n",
    "$$"
   ]
  },
  {
   "cell_type": "code",
   "execution_count": null,
   "metadata": {
    "collapsed": false
   },
   "outputs": [],
   "source": [
    "def impulse(t_0):\n",
    "    t = np.linspace(-N/(2.*Fs),N/(2.*Fs),N)\n",
    "    y = np.zeros(len(t)) \n",
    "    y[len(t)/2 + t_0*Fs ] = 1\n",
    "    f = np.linspace(-Fs/2.,Fs/2.,N)\n",
    "    y_w = np.exp(-2*np.pi*t_0*f*1j)\n",
    "    draw(t,y,f,y_w,f_lim = [-2,2],yw_lim = [-2,2])\n",
    "interact(impulse,t_0 = (0,N/(2.*Fs)-1,1))"
   ]
  },
  {
   "cell_type": "markdown",
   "metadata": {},
   "source": [
    "## Impulse train\n",
    "$$\n",
    "\\mbox{Signal: } \\sum\\limits_{k\\in \\mathbb Z} \\delta(t-kT)\\\\\n",
    "\\mbox{Fourier Transform: } F(f) = \\frac{1}{T} \\sum\\limits_{l \\in \\mathbb Z} \\delta(f-\\frac{l}{T})\n",
    "$$"
   ]
  },
  {
   "cell_type": "code",
   "execution_count": null,
   "metadata": {
    "collapsed": false
   },
   "outputs": [],
   "source": [
    "def impulse_train(period):\n",
    "    t = np.linspace(-N/(2*Fs),N/(2*Fs),N)\n",
    "    y = np.zeros(len(t))\n",
    "    i = 0\n",
    "    while i < len(t):\n",
    "        y[i] = 1\n",
    "        i += period*Fs\n",
    "    f_0 = 1/period\n",
    "    w = np.linspace(-Fs/(2),Fs/(2),N)\n",
    "    y_w = np.zeros(len(w))\n",
    "    k = 0\n",
    "    while k < len(w):\n",
    "        y_w[k] = 1./period\n",
    "        k += f_0*Fs\n",
    "    draw(t,y,w,y_w)\n",
    "\n",
    "interact(impulse_train,period = (1.,10.,1.))"
   ]
  },
  {
   "cell_type": "markdown",
   "metadata": {},
   "source": [
    "## Block\n",
    "$$\n",
    "\\mbox{Signal: } f(t) = A \\Pi(t/\\Delta) =\n",
    "\\begin{cases} \n",
    "0 &\\mbox{if } |t|> \\frac{\\Delta}{2} \\\\ \n",
    "A &\\mbox{if } |t|< \\frac{\\Delta}{2} \n",
    "\\end{cases}\\\\\n",
    "\\mbox{Fourier Transform: } F(f) =\\int\\limits_{-\\infty}^{\\infty} A \\Pi(t/\\Delta) e^{-2\\pi f t j} = A \\int\\limits_{-\\Delta/2}^{\\Delta/2} 1 e^{-2\\pi f t j} = \\frac{A sin(\\pi f \\Delta)}{\\pi f}\n",
    "$$"
   ]
  },
  {
   "cell_type": "code",
   "execution_count": null,
   "metadata": {
    "collapsed": false
   },
   "outputs": [],
   "source": [
    "y_w = None\n",
    "f = None\n",
    "def block(amp,width):\n",
    "    global y_w,f\n",
    "    t = np.linspace(-N/(2*Fs),N/(2*Fs),N)\n",
    "    y = np.zeros(len(t))\n",
    "    start = int(len(t)/2-(width/2.0)*Fs)\n",
    "    stop =  int(len(t)/2 + (width/2.0)*Fs)\n",
    "    y[start:stop] = amp\n",
    "    f = np.linspace(-Fs/(2),Fs/(2),N)\n",
    "    y_w = amp*np.sin(np.pi*f*width)/(np.pi*f)\n",
    "    draw(t,y,f,y_w,y_lim=[0,6],f_lim=[-3,3])\n",
    "    \n",
    "interact(block,amp=(1,5),width = (1,30))"
   ]
  },
  {
   "cell_type": "markdown",
   "metadata": {
    "collapsed": true
   },
   "source": [
    "### Low pass filter\n",
    "Apply a low pass filter to the signal and cut off the high frequencies. We see that the original signal is replaced by a series of cosines and sines. At the edge of the block, we see the Gibbs phenomenon."
   ]
  },
  {
   "cell_type": "code",
   "execution_count": null,
   "metadata": {
    "collapsed": false
   },
   "outputs": [],
   "source": [
    "def low_pass(cut_off_frequency):\n",
    "    pos_pos = np.amin(np.where(f > cut_off_frequency))\n",
    "    pos_neg = np.amax(np.where(f < -cut_off_frequency))\n",
    "    temp = y_w[pos_neg:pos_pos]\n",
    "    diff = len(f) - len(temp)\n",
    "    y_w_lp = [0] * (diff/2) + temp.tolist() + [0]*(diff/2)\n",
    "    if diff%2 == 1:\n",
    "        y_w_lp += [0]\n",
    "    y_w_lp = np.array(y_w_lp)\n",
    "    y_signal = fourier.ifftshift(abs(fourier.ifft(Fs*y_w_lp)))\n",
    "    t_signal = np.linspace(-N/(2.*Fs),N/(2.*Fs),N)\n",
    "    draw(t_signal,y_signal,f,y_w_lp,f_lim=[-11,11])\n",
    "\n",
    "interact(low_pass,cut_off_frequency=(1,10))"
   ]
  },
  {
   "cell_type": "code",
   "execution_count": null,
   "metadata": {
    "collapsed": true
   },
   "outputs": [],
   "source": []
  }
 ],
 "metadata": {
  "kernelspec": {
   "display_name": "Python 2",
   "language": "python",
   "name": "python2"
  },
  "language_info": {
   "codemirror_mode": {
    "name": "ipython",
    "version": 2
   },
   "file_extension": ".py",
   "mimetype": "text/x-python",
   "name": "python",
   "nbconvert_exporter": "python",
   "pygments_lexer": "ipython2",
   "version": "2.7.10"
  }
 },
 "nbformat": 4,
 "nbformat_minor": 0
}
