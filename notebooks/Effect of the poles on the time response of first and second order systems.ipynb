{
 "cells": [
  {
   "cell_type": "markdown",
   "metadata": {},
   "source": [
    "# Effect of the poles on the time response of first and second order systems\n",
    "<br> In this demo we will look what the effect is of the position of the poles on the zeros/poles plot, the step response,the impulse response, the settling time and the rise time.\n",
    "<br> The rise time is the time when the step response crosses 90% of the value of the steady state error for <br> the <b>first time</b>. The settling time is the time when the step response starts oscillating in a band of\n",
    "<br> 2% of the steady state error.\n",
    "<br> You are able to choose if you want to see a first order system (general form $=\\large{\\frac{k}{s-a}}$)\n",
    "<br> or a second order system (general form = $\\large{\\frac{k}{(s-a)(s-b)}}$)."
   ]
  },
  {
   "cell_type": "code",
   "execution_count": 10,
   "metadata": {
    "collapsed": false
   },
   "outputs": [],
   "source": [
    "%matplotlib inline\n",
    "from control import*\n",
    "from matplotlib import*\n",
    "from pylab import*\n",
    "from math import*\n",
    "from numpy import*\n",
    "from IPython.html.widgets import*\n",
    "from cmath import*\n",
    "from IPython.display import display"
   ]
  },
  {
   "cell_type": "code",
   "execution_count": 11,
   "metadata": {
    "collapsed": false
   },
   "outputs": [],
   "source": [
    "\n",
    "def calculate_steady_state(TF):\n",
    "    poles=pole(TF)\n",
    "    for i in range(0,len(poles)):\n",
    "        if real(poles[i])>=0:\n",
    "            return None\n",
    "    t,y=step_response(TF)\n",
    "    return y[len(y)-1]\n",
    "\n",
    "def calculate_rise_time(y,t,steady_state):\n",
    "    # Calculate time to reach the steady state for the first time\n",
    "    if steady_state==None:\n",
    "        return \"not defined\"\n",
    "    for i in range(1,len(y)):\n",
    "        if y[i-1]<steady_state*0.9 and y[i]>=steady_state*0.9:\n",
    "            return t[i]\n",
    "    return \"not defined\"\n",
    "def calculate_settling_time(y,t,steady_state):\n",
    "    # Calculate the settling time\n",
    "    if steady_state==None:\n",
    "        return \"not defined\"\n",
    "    if y[-1]> (steady_state +0.02*steady_state) or y[-1] < (steady_state - 0.02*steady_state):\n",
    "        return \"not defined\"\n",
    "    else:\n",
    "        for i in range(len(y)-1,-1,-1):\n",
    "            if y[i]> (steady_state + 0.02*steady_state) or y[i] < (steady_state - 0.02*steady_state):\n",
    "                index = i + 1\n",
    "                break\n",
    "        \n",
    "        return t[i+1]\n",
    "\n",
    "\n",
    "def first_order_system_time_response(k,a):\n",
    "    \"\"\"Plots the zero/pole plot, the step response and the impulse response of a first order system.\"\"\"\n",
    "    \n",
    "    TF = TransferFunction([k,],[1,-a])\n",
    "    print \"H(s)= \"\n",
    "    print \"           \"\n",
    "    print TF\n",
    "    t,y=step_response(TF)\n",
    "    sse= calculate_steady_state(TF)\n",
    "    print \"Rise time: \",calculate_rise_time(y,t,sse)\n",
    "    print \"Settling time: \",calculate_settling_time(y,t,sse)\n",
    "    \n",
    "    \n",
    "    subplot(1,2,1)\n",
    "    plot(t,y,label='Step Response')\n",
    "    title('Step Response')\n",
    "    xlabel('Time(sec)')\n",
    "    ylabel('Magnitude')\n",
    "    \n",
    "    subplot(1,2,2)\n",
    "    t,y=impulse_response(TF)\n",
    "    plot(t,y,label='Impulse Response')\n",
    "    title('Impulse Response')\n",
    "    xlabel('Time(sec)')\n",
    "    ylabel('Magnitude')\n",
    "\n",
    "    fig= gcf()\n",
    "    fig.set_size_inches(12,4)\n",
    "    show ()\n",
    "    \n",
    "    matlab.pzmap(TF)\n",
    "    fig= gcf()\n",
    "    fig.set_size_inches(5,3)\n",
    "    show ()\n",
    "    \n",
    "def second_order_system_time_response(k,a,b,im):\n",
    "    \"\"\"Plots the zero/pole plot, the step response and the impulse response of a second order system.\"\"\"\n",
    "    if a!=b and im !=0:\n",
    "        print \"\"\"A real system can't have complex poles that are not each other's conjugates!!!\"\"\"\n",
    "    else:\n",
    "        TF = TransferFunction([k,],[1,-real(((a+im*1j)+(b-im*1j))),real(a*b-(im*1j)**2)])\n",
    "        print \"H(s)= \"\n",
    "        print \"           \"\n",
    "        print TF\n",
    "        t,y=step_response(TF)\n",
    "        sse= calculate_steady_state(TF)\n",
    "        print \"Rise time: \",calculate_rise_time(y,t,sse)\n",
    "        print \"Settling time: \",calculate_settling_time(y,t,sse)\n",
    "        \n",
    "        subplot(1,2,1)\n",
    "        t,y=step_response(TF)\n",
    "        plot(t,y,label='Step Response')\n",
    "        title('Step Response')\n",
    "        xlabel('Time(sec)')\n",
    "        ylabel('Magnitude')\n",
    "        \n",
    "        subplot(1,2,2)\n",
    "        t,y=impulse_response(TF)\n",
    "        plot(t,y,label='Impulse Response')\n",
    "        title('Impulse Response')\n",
    "        xlabel('Time(sec)')\n",
    "        ylabel('Magnitude')\n",
    "        \n",
    "        fig= gcf()\n",
    "        fig.set_size_inches(12,4)\n",
    "        show ()\n",
    "    \n",
    "        matlab.pzmap(TF)\n",
    "        fig= gcf()\n",
    "        fig.set_size_inches(5,3)\n",
    "        show ()\n",
    "        \n",
    "\n",
    "    "
   ]
  },
  {
   "cell_type": "code",
   "execution_count": 12,
   "metadata": {
    "collapsed": false
   },
   "outputs": [
    {
     "name": "stdout",
     "output_type": "stream",
     "text": [
      "H(s)= \n",
      "           \n",
      "\n",
      "1.001\n",
      "-----\n",
      "s - 8\n",
      "\n",
      "Rise time:  not defined\n",
      "Settling time:  not defined\n"
     ]
    },
    {
     "data": {
      "image/png": "[encoded data removed]",
      "text/plain": [
       "<matplotlib.figure.Figure at 0x187c56d8>"
      ]
     },
     "metadata": {},
     "output_type": "display_data"
    },
    {
     "data": {
      "image/png": "[encoded data removed]",
      "text/plain": [
       "<matplotlib.figure.Figure at 0x16a2a588>"
      ]
     },
     "metadata": {},
     "output_type": "display_data"
    }
   ],
   "source": [
    "\n",
    "order1=False\n",
    "order2=False\n",
    "#1e while loop to see if you want to look at a first order system\n",
    "keep_going = None\n",
    "    # Blijf prompten tot correcte input\n",
    "while keep_going != \"Y\" and keep_going != \"y\" and keep_going != \"n\" and keep_going !=\"N\":\n",
    "    print \"                                                                      \"\n",
    "    print \"Do you wanna look at first order systems?\"\n",
    "    \n",
    "    keep_going = raw_input(\"(Y/N)? \")\n",
    "    order1 = True\n",
    "    if keep_going == \"N\" or keep_going==\"n\":\n",
    "        order1=False\n",
    "keep_going = None\n",
    "    # Blijf prompten tot correcte input\n",
    "#2e while loop to see if you want to look at a second order system    \n",
    "while keep_going != \"Y\" and keep_going != \"y\" and keep_going != \"n\" and keep_going !=\"N\" and order1==False:\n",
    "    print \"                                                                      \"\n",
    "    print \"Do you wanna look at second order systems?\"\n",
    "   \n",
    "    keep_going = raw_input(\"(Y/N)? \")\n",
    "    order2 = True\n",
    "    if keep_going == \"N\" or keep_going==\"n\":\n",
    "        order2=False\n",
    "if order1==True:\n",
    "    interact(first_order_system_time_response,k=(0.001,100,1),a=(-100,100,1))\n",
    "    \n",
    "if order2==True:\n",
    "    interact(second_order_system_time_response,k=(0.001,100,1),a=(-50,50,1),b=(-50,50,1),im=(-50,50,1))"
   ]
  }
 ],
 "metadata": {
  "kernelspec": {
   "display_name": "Python 2",
   "language": "python",
   "name": "python2"
  },
  "language_info": {
   "codemirror_mode": {
    "name": "ipython",
    "version": 2
   },
   "file_extension": ".py",
   "mimetype": "text/x-python",
   "name": "python",
   "nbconvert_exporter": "python",
   "pygments_lexer": "ipython2",
   "version": "2.7.10"
  }
 },
 "nbformat": 4,
 "nbformat_minor": 0
}
