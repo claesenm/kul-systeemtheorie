{
 "cells": [
  {
   "cell_type": "markdown",
   "metadata": {},
   "source": [
    "# Effect of the poles on the time response of first and second order systems\n",
    "<br> In this demo we will look what the effect is of the position of the poles on the zeros/poles plot, the step response,the impulse response, the settling time and the rise time.\n",
    "<br> The rise time is the time when the step response crosses 90% of the value of the steady state error for the <b>first time</b>.<br>\n",
    "The settling time is the time when the step response starts oscillating in a band of 2% of the steady state error.\n",
    "<br> You are able to choose if you want to see a first order system $\\Big($general form $=\\large{\\frac{k}{s-a}}\\Big)$\n",
    "<br> or a second order system $\\Big($general form = $\\large{\\frac{k}{(s-a)(s-b)}}\\Big)$."
   ]
  },
  {
   "cell_type": "code",
   "execution_count": 1,
   "metadata": {
    "collapsed": false
   },
   "outputs": [
    {
     "name": "stderr",
     "output_type": "stream",
     "text": [
      ":0: FutureWarning: IPython widgets are experimental and may change in the future.\n"
     ]
    }
   ],
   "source": [
    "%matplotlib inline\n",
    "from TEMP import *"
   ]
  },
  {
   "cell_type": "code",
   "execution_count": 2,
   "metadata": {
    "collapsed": false
   },
   "outputs": [],
   "source": [
    "def calculate_steady_state(TF):\n",
    "    poles=pole(TF)\n",
    "    if (True in map(lambda x: real(x) >=0,poles)):\n",
    "        return None\n",
    "    t,y=step_response(TF)\n",
    "    return y[len(y)-1]\n",
    "\n",
    "def calculate_rise_time(y,t,steady_state):\n",
    "    # Calculate time to reach the steady state for the first time\n",
    "    if steady_state == None:\n",
    "        return \"not defined\"\n",
    "    for i in range(1,len(y)):\n",
    "        if y[i-1]<steady_state*0.9 and y[i]>=steady_state*0.9:\n",
    "            return t[i]\n",
    "    return \"not defined\"\n",
    "def calculate_settling_time(y,t,steady_state):\n",
    "    # Calculate the settling time\n",
    "    if steady_state==None:\n",
    "        return \"not defined\"\n",
    "    if y[-1]> (steady_state +0.02*steady_state) or y[-1] < (steady_state - 0.02*steady_state):\n",
    "        return \"not defined\"\n",
    "    else:\n",
    "        # Run from the back and check when we leave the settling area.\n",
    "        for i in range(len(y)-1,-1,-1):\n",
    "            if y[i]> (steady_state + 0.02*steady_state) or y[i] < (steady_state - 0.02*steady_state):\n",
    "                break\n",
    "        \n",
    "        return t[i+1]"
   ]
  },
  {
   "cell_type": "markdown",
   "metadata": {},
   "source": [
    "## First order system"
   ]
  },
  {
   "cell_type": "code",
   "execution_count": 3,
   "metadata": {
    "collapsed": false
   },
   "outputs": [
    {
     "name": "stdout",
     "output_type": "stream",
     "text": [
      "H(s)= \n",
      "\n",
      "\n",
      "  25\n",
      "------\n",
      "s + 32\n",
      "\n",
      "Rise time:  0.0729166666667\n",
      "Settling time:  0.121527777778\n"
     ]
    },
    {
     "data": {
      "image/png": "[encoded data removed]",
      "text/plain": [
       "<matplotlib.figure.Figure at 0x5415a50>"
      ]
     },
     "metadata": {},
     "output_type": "display_data"
    },
    {
     "data": {
      "image/png": "[encoded data removed]",
      "text/plain": [
       "<matplotlib.figure.Figure at 0x7d360d0>"
      ]
     },
     "metadata": {},
     "output_type": "display_data"
    }
   ],
   "source": [
    "def first_order_system_time_response(k,a):\n",
    "    \"\"\"Plots the zero/pole plot, the step response and the impulse response of a first order system.\"\"\"\n",
    "    TF = TransferFunction([k],[1,-a])\n",
    "    print \"H(s)= \" \n",
    "    print \n",
    "    print TF\n",
    "    t_step,y_step = step_response(TF)\n",
    "    sse= calculate_steady_state(TF)\n",
    "    t_impulse,y_impulse=impulse_response(TF)\n",
    "    print \"Rise time: \",calculate_rise_time(y_step,t_step,sse)\n",
    "    print \"Settling time: \",calculate_settling_time(y_step,t_step,sse)\n",
    "    draw(t_step,y_step,t_impulse,y_impulse,TF)\n",
    "    \n",
    "    \n",
    "interact(first_order_system_time_response,k=(0.001,100,1),a=(-100,100,1))"
   ]
  },
  {
   "cell_type": "markdown",
   "metadata": {},
   "source": [
    "## Second order system"
   ]
  },
  {
   "cell_type": "code",
   "execution_count": 2,
   "metadata": {
    "collapsed": false
   },
   "outputs": [
    {
     "ename": "NameError",
     "evalue": "name 'interact' is not defined",
     "output_type": "error",
     "traceback": [
      "\u001b[1;31m---------------------------------------------------------------------------\u001b[0m",
      "\u001b[1;31mNameError\u001b[0m                                 Traceback (most recent call last)",
      "\u001b[1;32m<ipython-input-2-1fec5b7409cb>\u001b[0m in \u001b[0;36m<module>\u001b[1;34m()\u001b[0m\n\u001b[0;32m     17\u001b[0m \u001b[1;33m\u001b[0m\u001b[0m\n\u001b[0;32m     18\u001b[0m \u001b[1;33m\u001b[0m\u001b[0m\n\u001b[1;32m---> 19\u001b[1;33m \u001b[0minteract\u001b[0m\u001b[1;33m(\u001b[0m\u001b[0msecond_order_system_time_response\u001b[0m\u001b[1;33m,\u001b[0m\u001b[0mk\u001b[0m\u001b[1;33m=\u001b[0m\u001b[1;33m(\u001b[0m\u001b[1;36m0.001\u001b[0m\u001b[1;33m,\u001b[0m\u001b[1;36m100\u001b[0m\u001b[1;33m,\u001b[0m\u001b[1;36m1\u001b[0m\u001b[1;33m)\u001b[0m\u001b[1;33m,\u001b[0m\u001b[0ma\u001b[0m\u001b[1;33m=\u001b[0m\u001b[1;33m(\u001b[0m\u001b[1;33m-\u001b[0m\u001b[1;36m50\u001b[0m\u001b[1;33m,\u001b[0m\u001b[1;36m50\u001b[0m\u001b[1;33m,\u001b[0m\u001b[1;36m1\u001b[0m\u001b[1;33m)\u001b[0m\u001b[1;33m,\u001b[0m\u001b[0mb\u001b[0m\u001b[1;33m=\u001b[0m\u001b[1;33m(\u001b[0m\u001b[1;33m-\u001b[0m\u001b[1;36m50\u001b[0m\u001b[1;33m,\u001b[0m\u001b[1;36m50\u001b[0m\u001b[1;33m,\u001b[0m\u001b[1;36m1\u001b[0m\u001b[1;33m)\u001b[0m\u001b[1;33m,\u001b[0m\u001b[0mim\u001b[0m\u001b[1;33m=\u001b[0m\u001b[1;33m(\u001b[0m\u001b[1;33m-\u001b[0m\u001b[1;36m50\u001b[0m\u001b[1;33m,\u001b[0m\u001b[1;36m50\u001b[0m\u001b[1;33m,\u001b[0m\u001b[1;36m1\u001b[0m\u001b[1;33m)\u001b[0m\u001b[1;33m)\u001b[0m\u001b[1;33m\u001b[0m\u001b[0m\n\u001b[0m",
      "\u001b[1;31mNameError\u001b[0m: name 'interact' is not defined"
     ]
    }
   ],
   "source": [
    "def second_order_system_time_response(k,a,b,im):\n",
    "    \"\"\"Plots the zero/pole plot, the step response and the impulse response of a second order system.\"\"\"\n",
    "    if a!=b and im !=0:\n",
    "        print \"\"\"A real system can't have complex poles that are not each other's conjugates!!!\"\"\"\n",
    "    else:\n",
    "        TF = TransferFunction([k,],[1,-real(((a+im*1j)+(b-im*1j))),real(a*b-(im*1j)**2)])\n",
    "        print \"H(s)= \"\n",
    "        print \n",
    "        print TF\n",
    "        t_step,y_step=step_response(TF)\n",
    "        sse= calculate_steady_state(TF)\n",
    "        print \"Rise time: \",calculate_rise_time(y_step,t_step,sse)\n",
    "        print \"Settling time: \",calculate_settling_time(y_step,t_step,sse)\n",
    "        t_impulse,y_impulse=impulse_response(TF)\n",
    "        draw(t_step,y_step,t_impulse,y_impulse,TF)\n",
    "        \n",
    "        \n",
    "        \n",
    "interact(second_order_system_time_response,k=(0.001,100,1),a=(-50,50,1),b=(-50,50,1),im=(-50,50,1))"
   ]
  },
  {
   "cell_type": "code",
   "execution_count": null,
   "metadata": {
    "collapsed": false
   },
   "outputs": [],
   "source": []
  },
  {
   "cell_type": "code",
   "execution_count": null,
   "metadata": {
    "collapsed": true
   },
   "outputs": [],
   "source": []
  }
 ],
 "metadata": {
  "kernelspec": {
   "display_name": "Python 2",
   "language": "python",
   "name": "python2"
  },
  "language_info": {
   "codemirror_mode": {
    "name": "ipython",
    "version": 2
   },
   "file_extension": ".py",
   "mimetype": "text/x-python",
   "name": "python",
   "nbconvert_exporter": "python",
   "pygments_lexer": "ipython2",
   "version": "2.7.9"
  }
 },
 "nbformat": 4,
 "nbformat_minor": 0
}
