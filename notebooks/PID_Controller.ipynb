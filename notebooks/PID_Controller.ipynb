{
 "cells": [
  {
   "cell_type": "code",
   "execution_count": 2,
   "metadata": {
    "collapsed": false
   },
   "outputs": [
    {
     "name": "stderr",
     "output_type": "stream",
     "text": [
      ":0: FutureWarning: IPython widgets are experimental and may change in the future.\n"
     ]
    }
   ],
   "source": [
    "from PID_controller import *"
   ]
  },
  {
   "cell_type": "markdown",
   "metadata": {},
   "source": [
    "# PID controller\n",
    "<img src=\"PID.png\" style =\"height: 400px;width: 1000px\">"
   ]
  },
  {
   "cell_type": "markdown",
   "metadata": {},
   "source": [
    "A PID controller involves three separate constant parameters: the proportional, the integral and derivative values.\n",
    "The Laplace transform of a PID-controller is: <br>\n",
    "$C(s) = K_p + \\frac{K_I}{s} + K_Ds$"
   ]
  },
  {
   "cell_type": "markdown",
   "metadata": {},
   "source": [
    "## Open-loopsystem"
   ]
  },
  {
   "cell_type": "code",
   "execution_count": 3,
   "metadata": {
    "collapsed": false
   },
   "outputs": [],
   "source": [
    "# Enter numerator\n",
    "num = [10]\n",
    "# Enter denominator\n",
    "den = [100,1]\n",
    "# Defining P(s)\n",
    "P = control.tf(num,den)"
   ]
  },
  {
   "cell_type": "code",
   "execution_count": 4,
   "metadata": {
    "collapsed": true
   },
   "outputs": [],
   "source": [
    "#Define min/max for K\n",
    "K_min,K_max = -50,50"
   ]
  },
  {
   "cell_type": "markdown",
   "metadata": {},
   "source": [
    "## Closed-loopsystem"
   ]
  },
  {
   "cell_type": "code",
   "execution_count": 5,
   "metadata": {
    "collapsed": false
   },
   "outputs": [
    {
     "name": "stdout",
     "output_type": "stream",
     "text": [
      "6.06060606061\n"
     ]
    },
    {
     "data": {
      "image/png": "[encoded data removed]",
      "text/plain": [
       "<matplotlib.figure.Figure at 0x761bcd0>"
      ]
     },
     "metadata": {},
     "output_type": "display_data"
    },
    {
     "name": "stdout",
     "output_type": "stream",
     "text": [
      "Rise time:  0.85705540251\n",
      "Steady_state:  1\n",
      "Overshoot:  0.150200155245\n",
      "Peak time:  1.65289256198\n",
      "Setlling time:  4.16284052648\n"
     ]
    }
   ],
   "source": [
    "% matplotlib inline\n",
    "def PID(KP,KI,KD):\n",
    "    if KP !=0 or KI!= 0 or KD !=0:\n",
    "        # Defining C = KP + KI/p + KD*p\n",
    "        C = control.tf([KP],[1]) + control.tf([KI],[1,0]) + control.tf([KD,0],[1])\n",
    "        # Defining closed-loop system\n",
    "        c_l_sys = control.feedback(C*P,1)\n",
    "        # Calculate stepresponce of the c_l_system\n",
    "        y,t = control.step(c_l_sys)\n",
    "        # Calculate peak and time to reach peak\n",
    "        y_max,peak_time = calculate_peak(y,t)\n",
    "        # Calculate steady state\n",
    "        steady_state= calculate_steady_state(C*P)\n",
    "        # Calculate overshoot\n",
    "        overshoot = y_max - steady_state\n",
    "        # Calculate rise time.\n",
    "        rise_time = calculate_rise_time(y,t,steady_state)\n",
    "        # Defining sigma\n",
    "        sigma = 0.02\n",
    "        # Calculate settling time\n",
    "        settling_time = calculate_settling_time(y,t,steady_state,sigma)\n",
    "        # Draw step response\n",
    "        draw_step_response(y,t,y_max,peak_time,steady_state,overshoot,rise_time,settling_time,sigma)\n",
    "        # Draw zero pole diagram\n",
    "        draw_zero_pole_diagram(c_l_sys)\n",
    "        # Print output\n",
    "        print_data(peak_time,steady_state,overshoot,rise_time,settling_time,sigma)\n",
    "    \n",
    "def calculate_peak(y,t):\n",
    "    # Calculate maximum y\n",
    "    y_max = np.amax(y)\n",
    "    itemindex = np.where(y==y_max)[0][0]\n",
    "    # Bepaal bijhorende t\n",
    "    peak_t = t[itemindex]\n",
    "    return y_max,peak_t\n",
    "\n",
    "def calculate_steady_state(PC):\n",
    "    poles= control.pole(PC)\n",
    "    # Bereken steady state error using error = 1/(1+K*(Prod(-n_i)/Prod(-p_i))\n",
    "    if  not 0 in poles:\n",
    "        DCgain = control.dcgain(PC).item(0)\n",
    "        steady_state_error = 1/(1+DCgain) \n",
    "    else:\n",
    "        steady_state_error = 0\n",
    "    # Steady state is desired output - steady state error\n",
    "    return 1 - steady_state_error\n",
    "\n",
    "def calculate_rise_time(y,t,steady_state):\n",
    "    # Calculate time to reach the steady state for the first time\n",
    "    for i in range(1,len(y)):\n",
    "        if y[i-1]<steady_state and y[i]>=steady_state:\n",
    "            return t[i]\n",
    "def calculate_settling_time(y,t,steady_state,sigma):\n",
    "    # Calculate the settling time\n",
    "    if y[-1]> (steady_state + sigma) or y[-1] < (steady_state - sigma):\n",
    "        return None\n",
    "    else:\n",
    "        for i in range(len(y)-1,-1,-1):\n",
    "            if y[i]> (steady_state + sigma) or y[i] < (steady_state - sigma):\n",
    "                index = i + 1\n",
    "                break\n",
    "        \n",
    "        return t[i+1]\n",
    "        \n",
    "interact(PID,KP=(K_min,K_max,1),KI=(K_min,K_max,1),KD=(K_min,K_max,1))"
   ]
  },
  {
   "cell_type": "code",
   "execution_count": null,
   "metadata": {
    "collapsed": true
   },
   "outputs": [],
   "source": []
  }
 ],
 "metadata": {
  "kernelspec": {
   "display_name": "Python 2",
   "language": "python",
   "name": "python2"
  },
  "language_info": {
   "codemirror_mode": {
    "name": "ipython",
    "version": 2
   },
   "file_extension": ".py",
   "mimetype": "text/x-python",
   "name": "python",
   "nbconvert_exporter": "python",
   "pygments_lexer": "ipython2",
   "version": "2.7.9"
  }
 },
 "nbformat": 4,
 "nbformat_minor": 0
}
