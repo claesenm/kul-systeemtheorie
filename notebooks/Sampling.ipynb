{
 "cells": [
  {
   "cell_type": "markdown",
   "metadata": {},
   "source": [
    "# Sampling"
   ]
  },
  {
   "cell_type": "markdown",
   "metadata": {},
   "source": [
    "## Signal"
   ]
  },
  {
   "cell_type": "code",
   "execution_count": null,
   "metadata": {
    "collapsed": true
   },
   "outputs": [],
   "source": [
    "# Number of samplepoints\n",
    "N = 800\n",
    "# sample spacing\n",
    "T = 1.0 / 800.0\n",
    "# Defining time vector\n",
    "t = np.linspace(-(N/2)*T, (N/2)*T, 1/T)\n",
    "y = signal_selector()\n",
    "y = np.sin(2*10*np.pi*x)/x"
   ]
  },
  {
   "cell_type": "code",
   "execution_count": 91,
   "metadata": {
    "collapsed": false
   },
   "outputs": [
    {
     "data": {
      "image/png": "[encoded data removed]",
      "text/plain": [
       "<matplotlib.figure.Figure at 0x879dab0>"
      ]
     },
     "metadata": {},
     "output_type": "display_data"
    }
   ],
   "source": [
    "%matplotlib inline\n",
    "from math import *\n",
    "import numpy as np\n",
    "import matplotlib.pyplot as plt\n",
    "import scipy.fftpack as fourier\n",
    "\n",
    "# Number of samplepoints\n",
    "N = 800\n",
    "# sample spacing\n",
    "T = 1.0 / 800.0\n",
    "x = np.linspace(-(N/2)*T, (N/2)*T, 1/T)\n",
    "y = np.sin(2*10*np.pi*x)/x\n",
    "yf = np.abs(fourier.fftshift(fourier.fft(y)))\n",
    "xf = np.linspace(-1.0/(2.0*T), 1.0/(2.0*T), 800)\n",
    "fig, ax = plt.subplots()\n",
    "ax.plot(xf, 2.0/800 * np.abs(yf))\n",
    "dirac = [0]*99 + [1] + [0]*99 + [1] +[0]*99 + [1] +[0]*99 + [1]+[0]*99 + [1]+[0]*99 + [1]+[0]*99 + [1] +[0]*99 + [1] \n",
    "res = np.convolve(yf,dirac,'same')\n",
    "plt.plot(xf,res)\n",
    "plt.show()"
   ]
  },
  {
   "cell_type": "code",
   "execution_count": null,
   "metadata": {
    "collapsed": true
   },
   "outputs": [],
   "source": []
  },
  {
   "cell_type": "code",
   "execution_count": null,
   "metadata": {
    "collapsed": true
   },
   "outputs": [],
   "source": []
  }
 ],
 "metadata": {
  "kernelspec": {
   "display_name": "Python 2",
   "language": "python",
   "name": "python2"
  },
  "language_info": {
   "codemirror_mode": {
    "name": "ipython",
    "version": 2
   },
   "file_extension": ".py",
   "mimetype": "text/x-python",
   "name": "python",
   "nbconvert_exporter": "python",
   "pygments_lexer": "ipython2",
   "version": "2.7.9"
  }
 },
 "nbformat": 4,
 "nbformat_minor": 0
}
