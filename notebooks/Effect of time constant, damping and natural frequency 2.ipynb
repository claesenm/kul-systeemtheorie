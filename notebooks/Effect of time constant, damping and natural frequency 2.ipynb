{
 "cells": [
  {
   "cell_type": "code",
   "execution_count": 13,
   "metadata": {
    "collapsed": false
   },
   "outputs": [],
   "source": [
    "%matplotlib inline\n",
    "from Helpfunctionsnaturaldamptimeconst import*\n"
   ]
  },
  {
   "cell_type": "markdown",
   "metadata": {},
   "source": [
    "#Effect of the time constant, natural frequency and damping ratio demo\n",
    "In this demo you can see what happens what the influence is of the time constant on standard first order systems\n",
    "<br>\n",
    "<br> $= \\large{\\frac{k}{\\tau s+1}}$ (with $\\tau$ the symbol for time constant)\n",
    "<br>\n",
    "<br>and what the effect of the natural frequency and damping ratio is on standard second order systems\n",
    "<br>\n",
    "<br>$=\\large{\\frac{\\omega_n ^2}{s^2 +2\\zeta\\omega_n+\\omega_n ^2}}$ (with $\\omega_n$ the natural frequency and\n",
    " $\\zeta$ the damping ratio).\n",
    "<br>\n",
    "<br>There are three possible plots: Zeros/poles plot, Bode plot and step response."
   ]
  },
  {
   "cell_type": "code",
   "execution_count": 14,
   "metadata": {
    "collapsed": false
   },
   "outputs": [
    {
     "name": "stdout",
     "output_type": "stream",
     "text": [
      "H(s) =\n",
      "\n",
      "        1444\n",
      "--------------------\n",
      "s^2 + 63.84 s + 1444\n",
      "\n"
     ]
    },
    {
     "data": {
      "image/png": "[encoded data removed]",
      "text/plain": [
       "<matplotlib.figure.Figure at 0x16e6d198>"
      ]
     },
     "metadata": {},
     "output_type": "display_data"
    }
   ],
   "source": [
    "demo_selecter('k')\n"
   ]
  },
  {
   "cell_type": "markdown",
   "metadata": {
    "collapsed": true
   },
   "source": [
    "<br>A first order system always has $1$ real pole. \n",
    "<br>\n",
    "<br>The bigger $\\tau$ gets, the closer the pole gets to 0.\n",
    "<br>\n",
    "<br>A standard first order system has 1 breaking point, $\\frac{1}{\\tau}$. Thus changing $\\tau$ changes the\n",
    "<br>\n",
    "<br>magnitude plot and the phase plot of the Bode plot.\n",
    "<br>\n",
    "<br>For a positive $\\tau$, the step response converges to a certain value. For a negative $\\tau$, the step\n",
    "<br>\n",
    "<br>response evolves towards $-\\infty$."
   ]
  },
  {
   "cell_type": "code",
   "execution_count": null,
   "metadata": {
    "collapsed": true
   },
   "outputs": [],
   "source": []
  }
 ],
 "metadata": {
  "kernelspec": {
   "display_name": "Python 2",
   "language": "python",
   "name": "python2"
  },
  "language_info": {
   "codemirror_mode": {
    "name": "ipython",
    "version": 2
   },
   "file_extension": ".py",
   "mimetype": "text/x-python",
   "name": "python",
   "nbconvert_exporter": "python",
   "pygments_lexer": "ipython2",
   "version": "2.7.10"
  }
 },
 "nbformat": 4,
 "nbformat_minor": 0
}
