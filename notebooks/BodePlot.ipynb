{
 "cells": [
  {
   "cell_type": "markdown",
   "metadata": {},
   "source": [
    "# Bode plots"
   ]
  },
  {
   "cell_type": "markdown",
   "metadata": {},
   "source": [
    "## Instructions\n",
    "First run the the first cell with the imports!!!"
   ]
  },
  {
   "cell_type": "code",
   "execution_count": 26,
   "metadata": {
    "collapsed": false
   },
   "outputs": [],
   "source": [
    "%matplotlib inline\n",
    "import sys\n",
    "from Tkinter import *\n",
    "import matplotlib\n",
    "matplotlib.use(\"TkAgg\")\n",
    "\n",
    "from matplotlib.backends.backend_tkagg import FigureCanvasTkAgg, NavigationToolbar2TkAgg\n",
    "\n",
    "import numpy as np\n",
    "from scipy import signal\n",
    "import matplotlib.pyplot as plt\n",
    "from math import floor"
   ]
  },
  {
   "cell_type": "markdown",
   "metadata": {},
   "source": [
    "##Create Easy Bode Plots"
   ]
  },
  {
   "cell_type": "code",
   "execution_count": 3,
   "metadata": {
    "collapsed": false
   },
   "outputs": [
    {
     "name": "stdout",
     "output_type": "stream",
     "text": [
      "Which method for defining your system? For numerator/denominator, type numden. For zeros and poles, type zp. For State space model, type ssnumden\n",
      "Give the numerator as a list of coefficients. For example for s^2 + 2s + 3, input [1, 2, 3][1,1]\n",
      "Give the denominator as a list of coefficients.[1,-3]\n"
     ]
    }
   ],
   "source": [
    "method = raw_input('Which method for defining your system? For numerator/denominator, type numden. For zeros and poles, type zp. For State space model, type ss');\n",
    "if method == \"numden\":\n",
    "    num = eval(raw_input(\"Give the numerator as a list of coefficients. For example for s^2 + 2s + 3, input [1, 2, 3]\"))\n",
    "    den = eval(raw_input(\"Give the denominator as a list of coefficients.\"))\n",
    "    s1 = signal.lti(num, den)\n",
    "elif method == \"zp\":\n",
    "    z = eval(raw_input(\"Give a list of zeros\"))\n",
    "    p = eval(raw_input(\"Give a list of poles\"))\n",
    "    K = eval(raw_input(\"Give a gain. (Notice that H(s) = K*(s-n1)*(s-n2).../(s-p1)*(s-p2)...)\"))\n",
    "    s1 = signal.lti(z, p, K)\n",
    "elif method == \"ss\":\n",
    "    A = eval(raw_input(\"Input the A-matrix. Remember a matrix is a list of lists. For exameple I2 = [[1, 0],[0, 1]]\"))\n",
    "    B = eval(raw_input(\"Input the B-matrix.\"))\n",
    "    C = eval(raw_input(\"Input the C-matrix.\"))\n",
    "    D = eval(raw_input(\"Input the D-matrix.\"))\n",
    "    s1 = signal.lti(A, B, C, D)\n"
   ]
  },
  {
   "cell_type": "code",
   "execution_count": 4,
   "metadata": {
    "collapsed": false
   },
   "outputs": [
    {
     "data": {
      "image/png": "[encoded data removed]",
      "text/plain": [
       "<matplotlib.figure.Figure at 0x6d36c90>"
      ]
     },
     "metadata": {},
     "output_type": "display_data"
    },
    {
     "data": {
      "image/png": "[encoded data removed]",
      "text/plain": [
       "<matplotlib.figure.Figure at 0x6d450b0>"
      ]
     },
     "metadata": {},
     "output_type": "display_data"
    }
   ],
   "source": [
    "w, mag, phase = s1.bode()\n",
    "\n",
    "%matplotlib inline\n",
    "plt.figure()\n",
    "plt.semilogx(w, mag)    # Bode magnitude plot\n",
    "plt.figure()\n",
    "plt.semilogx(w, phase)  # Bode phase plot\n",
    "plt.show()"
   ]
  },
  {
   "cell_type": "markdown",
   "metadata": {
    "collapsed": false
   },
   "source": [
    "## Demos of how to draw a bode plot by hand\n",
    "First split it up in the break points representation."
   ]
  },
  {
   "cell_type": "code",
   "execution_count": null,
   "metadata": {
    "collapsed": false
   },
   "outputs": [],
   "source": []
  },
  {
   "cell_type": "markdown",
   "metadata": {},
   "source": [
    "##Relation between sinusoidal input/output"
   ]
  },
  {
   "cell_type": "code",
   "execution_count": null,
   "metadata": {
    "collapsed": false
   },
   "outputs": [
    {
     "data": {
      "image/png": "[encoded data removed]",
      "text/plain": [
       "<matplotlib.figure.Figure at 0xa74c210>"
      ]
     },
     "metadata": {},
     "output_type": "display_data"
    },
    {
     "data": {
      "image/png": "[encoded data removed]",
      "text/plain": [
       "<matplotlib.figure.Figure at 0xa3b8d30>"
      ]
     },
     "metadata": {},
     "output_type": "display_data"
    }
   ],
   "source": [
    "\n",
    "def mclose():\n",
    "    mGui.destroy() \n",
    "    \n",
    "def Hstring(num,den):\n",
    "    \n",
    "    result = \"H(s) = (\"\n",
    "    if num[0] < 0:\n",
    "        result += \"-\"\n",
    "    for i in range(len(num)):\n",
    "        plusminus = \" + \"\n",
    "        if i== len(num)-1 or num[i+1] < 0:\n",
    "            plusminus = \" - \"\n",
    "            \n",
    "        if (len(num) - i-1) > 1:\n",
    "            result += str(abs(num[i])) + \"s^\" + str(len(num)-1) + plusminus\n",
    "        elif (len(num) - i-1) == 1:\n",
    "            result += str(abs(num[i])) + \"s\" + plusminus\n",
    "        elif (len(num) - i-1) == 0:\n",
    "            result += str(abs(num[i])) + \")\"\n",
    "            \n",
    "    result += \" / (\"\n",
    "    if den[0] < 0:\n",
    "        result += \"-\"\n",
    "        \n",
    "    for i in range(len(den)):\n",
    "        plusminus = \" + \"\n",
    "        if i== len(den)-1 or den[i+1] < 0:\n",
    "            plusminus = \" - \"\n",
    "        \n",
    "        if (len(den) - i-1) > 1:\n",
    "            result += str(abs(den[i])) + \"s^\" + str(len(den)-1) + plusminus\n",
    "        elif (len(den) - i-1) == 1:\n",
    "            result += str(abs(den[i])) + \"s\" + plusminus\n",
    "        elif (len(den) - i-1) == 0:\n",
    "            result += str(abs(den[i])) + \")\"\n",
    "            \n",
    "    return result\n",
    "    \n",
    "def H(num,den,s):\n",
    "    numresult = 0\n",
    "    denresult = 0\n",
    "    for i in range(len(num)):\n",
    "        numresult += num[-i-1]*s**i\n",
    "    \n",
    "    for i in range(len(den)):\n",
    "        denresult += den[-i-1]*s**i\n",
    "    \n",
    "    return numresult/denresult\n",
    "\n",
    "    \n",
    "        \n",
    "def minput():\n",
    "    \n",
    "    mynum= eval(num.get())\n",
    "    myden = eval(den.get())\n",
    "    \n",
    "    Amp = A.get()\n",
    "    omega = w.get()\n",
    "    fig = plt.figure()\n",
    "    axes = fig.add_subplot(111)\n",
    "    x1 = np.linspace(0,8*np.pi/omega,1000)\n",
    "    y1 = Amp*np.sin(omega*x1)\n",
    "    \n",
    "    Hw = H(mynum,myden,omega*1j)\n",
    "    ang = np.angle(Hw)\n",
    "    mag = abs(Hw)\n",
    "    y2 = Amp*mag*np.sin(omega*x1+ang)\n",
    "    line1 = axes.plot(x1,y1,label=\"input\")\n",
    "    line2 = axes.plot(x1,y2,label=\"output\")\n",
    "    axes.set_autoscaley_on(False)\n",
    "    axes.set_xlim([0,8*np.pi/omega])\n",
    "    \n",
    "    plt.legend()\n",
    "    \n",
    "    canvas = FigureCanvasTkAgg(fig,mGui)\n",
    "    canvas.show()\n",
    "    canvas.get_tk_widget().place(x = 10, y = 270)\n",
    "    \n",
    "    \n",
    "    fig = plt.figure(figsize=(4,3))\n",
    "    axes = fig.add_subplot(111)\n",
    "    s1 = signal.lti(mynum, myden)\n",
    "    w1 = np.linspace(10**(floor(np.log10(omega)-1)),10**floor(np.log10(omega)+2),1000)\n",
    "    w1, mag, phase = s1.bode(w = w1)\n",
    "    \n",
    "    for k in range(len(phase)):\n",
    "        phase[k] = (phase[k]+ 180)%360 - 180\n",
    "    axes.semilogx(w1, mag)\n",
    "    axes.plot(omega,20*np.log10(abs(Hw)),'ro')\n",
    "    canvas = FigureCanvasTkAgg(fig,mGui)\n",
    "    canvas.show()\n",
    "    canvas.get_tk_widget().place(x = 500, y = 100)\n",
    "    \n",
    "    fig = plt.figure(figsize=(4,3))\n",
    "    axes = fig.add_subplot(111)\n",
    "    \n",
    "    axes.semilogx(w1, phase)\n",
    "    axes.plot(omega,np.angle(Hw,deg = 1),'ro')\n",
    "    canvas = FigureCanvasTkAgg(fig,mGui)\n",
    "    canvas.show()\n",
    "    canvas.get_tk_widget().place(x = 500, y = 370)\n",
    "    \n",
    "    mlabelex1 = Label(mGui,text = \"At w = \" + str(omega) + \" rad/s is:\").place(x = 830,y = 290)\n",
    "    mlabelex2 = Label(mGui,text = \"Magnitude = \" + str(round(20*np.log10(abs(Hw)),2)) + \" dB (which is \" + str(round(abs(Hw),2)) + \")\").place(x = 830,y = 310)\n",
    "    mlabelex3 = Label(mGui,text = \"Phase = \" + str(round(ang*180/np.pi,2)) + \" degrees\").place(x = 830, y = 330)\n",
    "    mlabelex4 = Label(mGui,text = Hstring(mynum,myden)).place(x = 350, y = 70)\n",
    "    plusminus = \" + \"\n",
    "    if ang < 0:\n",
    "        plusminus = \" - \"\n",
    "    mlabelex5 = Label(mGui,text = \"Output signal = \" + str(round(abs(Hw)*Amp,2)) + \"sin(\" + str(omega) + \"t\" + plusminus + \\\n",
    "                      str(round(abs(ang),2)) + \")\").place(x=10,y=250)\n",
    "    \n",
    "mGui = Tk()\n",
    "A = DoubleVar()\n",
    "w = DoubleVar()\n",
    "num = StringVar()\n",
    "den = StringVar()\n",
    "\n",
    "mGui.geometry('1200x650+100+50')\n",
    "mGui.title(\"Relation between sinusoidal input/output\")\n",
    "\n",
    "mlabel0 = Label(mGui, text = \"First give the numerator and denominator of the transfer function of your system as lists.\\\n",
    "Then give the parameters of your input signal and click OK. Afterwards you can put in other values and basically play around.\")\\\n",
    ".place(x=10,y = 10)\n",
    "mlabel1 = Label(mGui,text = \"Input signal u(t) = Asin(wt)\").place(x = 10,y = 130)\n",
    "mlabel2 = Label(mGui,text = \"A\").place(x = 10,y = 160)\n",
    "mlabel3 = Label(mGui,text = \"w\").place(x = 10,y = 190)\n",
    "\n",
    "mentryA = Entry(mGui, textvariable = A).place(x = 30, y = 160)\n",
    "mentryw = Entry(mGui, textvariable = w).place(x = 30, y = 190)\n",
    "\n",
    "\n",
    "mbutton1 = Button(mGui,text = \"OK\",command = minput).place(x = 10, y = 220)\n",
    "\n",
    "mlabel4 = Label(mGui,text = \"Transfer function H(s). Give the numerator and denominator as lists. Example: s^2 + 2s + 3 = [1,2,3]\\\n",
    "\").place(x = 250,y = 40)\n",
    "mnum = Entry(mGui, textvariable = num).place(x = 300, y = 110)\n",
    "mden = Entry(mGui, textvariable = den).place(x = 300, y= 140)\n",
    "\n",
    "\n",
    "\n",
    "\n",
    "mbuttonClose = Button(mGui, text= \"Finish\", command = mclose).place(x = 1100, y = 600)\n",
    "\n",
    "mGui.mainloop()"
   ]
  },
  {
   "cell_type": "code",
   "execution_count": null,
   "metadata": {
    "collapsed": true
   },
   "outputs": [],
   "source": []
  },
  {
   "cell_type": "code",
   "execution_count": null,
   "metadata": {
    "collapsed": true
   },
   "outputs": [],
   "source": []
  },
  {
   "cell_type": "code",
   "execution_count": null,
   "metadata": {
    "collapsed": true
   },
   "outputs": [],
   "source": []
  }
 ],
 "metadata": {
  "kernelspec": {
   "display_name": "Python 2",
   "language": "python",
   "name": "python2"
  },
  "language_info": {
   "codemirror_mode": {
    "name": "ipython",
    "version": 2
   },
   "file_extension": ".py",
   "mimetype": "text/x-python",
   "name": "python",
   "nbconvert_exporter": "python",
   "pygments_lexer": "ipython2",
   "version": "2.7.9"
  }
 },
 "nbformat": 4,
 "nbformat_minor": 0
}
