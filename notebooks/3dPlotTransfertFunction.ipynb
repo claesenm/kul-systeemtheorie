{
 "cells": [
  {
   "cell_type": "code",
   "execution_count": 13,
   "metadata": {
    "collapsed": false
   },
   "outputs": [
    {
     "name": "stdout",
     "output_type": "stream",
     "text": [
      "Enter numerator(e.g. p^2 + p -> 1,1,0): 1,0\n",
      "Enter denominator(as p^2 + p -> 1,1,0): 1,1,1\n",
      "-0.875 0.375 -2.16506350946 2.16506350946 0 1.9\n"
     ]
    }
   ],
   "source": [
    "import scipy.signal as sig\n",
    "import numpy as np\n",
    "from cmath import *\n",
    "import matplotlib.pyplot as plt\n",
    "from mpl_toolkits.mplot3d import Axes3D\n",
    "from matplotlib import cm\n",
    "def evaluate_fractional_polynomal(num,den,x,y):\n",
    "    Z = x + y*1j\n",
    "    numerator = num[0]\n",
    "    for k in range(1,len(num)):\n",
    "        numerator = (numerator * Z)+num[k]\n",
    "    denominator = den[0]\n",
    "    for l in range(1,len(den)):\n",
    "        denominator = (denominator*Z) + den[l]\n",
    "    return numerator/denominator\n",
    "def draw_zero_pole(z,p):\n",
    "    plt.plot(np.real(z),np.imag(z),'o',np.real(p),np.imag(p),'x')\n",
    "def input_handler(string):\n",
    "    correct = False\n",
    "    while not correct:\n",
    "        test = raw_input(string)\n",
    "        test = test.split(',')\n",
    "        correct = True\n",
    "        for k in range(len(test)):\n",
    "            try:\n",
    "                test[k]= float(test[k])\n",
    "                test[k] = float(test[k])\n",
    "            except:\n",
    "                correct = False\n",
    "    return test\n",
    "def dynamic_axis(zero,pole,K):\n",
    "    if list(zero)+list(pole)==[]:\n",
    "        x_min,x_max,y_min,y_max = -1,1,-1,1\n",
    "    else:\n",
    "        x_min = min(list(np.real(z))+list(np.real(p)))\n",
    "        x_max = max(list(np.real(z))+list(np.real(p)))\n",
    "        if x_min == x_max:\n",
    "            x_min -= 1\n",
    "            x_max += 1\n",
    "        else:\n",
    "            x_min,x_max = (x_min- 0.75*(x_max-x_min)),(x_max + 0.75*(x_max-x_min))\n",
    "        y_min = min(list(np.imag(z))+list(np.imag(p)))\n",
    "        y_max = max(list(np.imag(z))+list(np.imag(p)))\n",
    "        if y_min == y_max:\n",
    "            y_min -= 1\n",
    "            y_max += 1\n",
    "        else:\n",
    "            y_min,y_max = (y_min- 0.75*(y_max-y_min)),(y_max + 0.75*(y_max-y_min))\n",
    "    if K == 0:\n",
    "        z_min,z_max = 0,0\n",
    "    else:\n",
    "        z_min,z_max = min(K*0.1,K*1.9,0),max(K*0.1,K*1.9,0)\n",
    "    return x_min,x_max,y_min,y_max,z_min,z_max\n",
    "    \n",
    "\n",
    "num = input_handler(\"Enter numerator(e.g. p^2 + p -> 1,1,0): \")\n",
    "den = input_handler(\"Enter denominator(as p^2 + p -> 1,1,0): \")\n",
    "z,p,k = sig.tf2zpk(num,den)\n",
    "x_min,x_max,y_min,y_max,z_min,z_max = dynamic_axis(z,p,k)\n",
    "print x_min,x_max,y_min,y_max,z_min,z_max\n",
    "X = np.arange(x_min, x_max, (x_max-x_min)/200.0)\n",
    "Y = np.arange(y_min, y_max, (y_max-y_min)/200.0)\n",
    "xx,yy = np.meshgrid(X,Y)\n",
    "Z = np.abs(evaluate_fractional_polynomal(num,den,xx,yy))\n",
    "fig = plt.figure()\n",
    "ax = fig.add_subplot(111, projection='3d')\n",
    "surf = ax.plot_surface(xx, yy, Z)\n",
    "ax.set_zlim(z_min, z_max)\n",
    "plt.show()\n",
    "draw_zero_pole(z,p)\n",
    "plt.xlim( x_min, x_max) \n",
    "plt.ylim(y_min,y_max)\n",
    "fig.set_size_inches(z_min, z_max)\n",
    "plt.show()"
   ]
  },
  {
   "cell_type": "code",
   "execution_count": null,
   "metadata": {
    "collapsed": true
   },
   "outputs": [],
   "source": []
  },
  {
   "cell_type": "code",
   "execution_count": null,
   "metadata": {
    "collapsed": true
   },
   "outputs": [],
   "source": []
  }
 ],
 "metadata": {
  "kernelspec": {
   "display_name": "Python 2",
   "language": "python",
   "name": "python2"
  },
  "language_info": {
   "codemirror_mode": {
    "name": "ipython",
    "version": 2
   },
   "file_extension": ".py",
   "mimetype": "text/x-python",
   "name": "python",
   "nbconvert_exporter": "python",
   "pygments_lexer": "ipython2",
   "version": "2.7.9"
  }
 },
 "nbformat": 4,
 "nbformat_minor": 0
}
