{
 "cells": [
  {
   "cell_type": "markdown",
   "metadata": {
    "collapsed": false
   },
   "source": [
    "$\\small{\\text{This notebook is made to exercise the students ability to calculate the constant K of a proportional controller C(s), }}\n",
    "\\\\ \\small{\\text{if a certain phase margin is given. }}\n",
    "\\\\ \\small{\\text{By allowing them to choose their own transferfunction and phasemargin, they can generate countless excercises.}}\n",
    "\\\\ \\small{\\text{In this notebook, you start by giving in a transfer function P(s). A Bode plot pops up to see if it}}\n",
    "\\\\ \\small{\\text{makes sense to calculate a constant K for this transfer function. If you continue with this transferfunction}}\n",
    "\\\\ \\small{\\text{you have to give a desired phasemargin (usually 30 degrees). The Bode plot then reappears so that you can}}\n",
    "\\\\ \\small{\\text{determine the value of K for which you reach your desired phasemargin. If your answer is not correct, }}\n",
    "\\\\ \\small{\\text{the correct K will be shown.}}$\n",
    "<img src='feedback_pitch2.png'>\n"
   ]
  },
  {
   "cell_type": "code",
   "execution_count": null,
   "metadata": {
    "collapsed": false
   },
   "outputs": [],
   "source": [
    "\n"
   ]
  },
  {
   "cell_type": "code",
   "execution_count": 1,
   "metadata": {
    "collapsed": false
   },
   "outputs": [
    {
     "ename": "ImportError",
     "evalue": "No module named control",
     "output_type": "error",
     "traceback": [
      "\u001b[1;31m---------------------------------------------------------------------------\u001b[0m",
      "\u001b[1;31mImportError\u001b[0m                               Traceback (most recent call last)",
      "\u001b[1;32m<ipython-input-1-43608c79d6a4>\u001b[0m in \u001b[0;36m<module>\u001b[1;34m()\u001b[0m\n\u001b[1;32m----> 1\u001b[1;33m \u001b[1;32mfrom\u001b[0m \u001b[0mcontrol\u001b[0m \u001b[1;32mimport\u001b[0m\u001b[1;33m*\u001b[0m\u001b[1;33m\u001b[0m\u001b[0m\n\u001b[0m\u001b[0;32m      2\u001b[0m \u001b[1;32mfrom\u001b[0m \u001b[0mmatplotlib\u001b[0m \u001b[1;32mimport\u001b[0m\u001b[1;33m*\u001b[0m\u001b[1;33m\u001b[0m\u001b[0m\n\u001b[0;32m      3\u001b[0m \u001b[1;32mfrom\u001b[0m \u001b[0mpylab\u001b[0m \u001b[1;32mimport\u001b[0m\u001b[1;33m*\u001b[0m\u001b[1;33m\u001b[0m\u001b[0m\n",
      "\u001b[1;31mImportError\u001b[0m: No module named control"
     ]
    }
   ],
   "source": [
    "from control import*\n",
    "from matplotlib import*\n",
    "from pylab import*"
   ]
  },
  {
   "cell_type": "code",
   "execution_count": null,
   "metadata": {
    "collapsed": false
   },
   "outputs": [],
   "source": []
  },
  {
   "cell_type": "code",
   "execution_count": null,
   "metadata": {
    "collapsed": false,
    "scrolled": true
   },
   "outputs": [
    {
     "name": "stdout",
     "output_type": "stream",
     "text": [
      "Welcome to this controller demo. The objective is to design a proportional controller. You can choose your own design objectives\n",
      "Give in the numerator of the transfer function(a_n*s^n+...+a_1*s+a_0 = a_n, ..., a_1, a_0 )= \n",
      "Give in the numerator of the transfer function(a_n*s^n+...+a_1*s+a_0 = a_n, ..., a_1, a_0 )= \n",
      "Give in the numerator of the transfer function(a_n*s^n+...+a_1*s+a_0 = a_n, ..., a_1, a_0 )= \n",
      "Give in the numerator of the transfer function(a_n*s^n+...+a_1*s+a_0 = a_n, ..., a_1, a_0 )= \n",
      "Give in the numerator of the transfer function(a_n*s^n+...+a_1*s+a_0 = a_n, ..., a_1, a_0 )= \n",
      "Give in the numerator of the transfer function(a_n*s^n+...+a_1*s+a_0 = a_n, ..., a_1, a_0 )= \n"
     ]
    }
   ],
   "source": [
    "\n",
    "print \"Welcome to this controller demo. The objective is to design a proportional controller. You can choose your own design objectives\"\n",
    "correct = False\n",
    "while not correct:\n",
    "    Nom = raw_input(\"Give in the numerator of the transfer function(a_n*s^n+...+a_1*s+a_0 = a_n, ..., a_1, a_0 )= \")\n",
    "    Nom = Nom.split(',')\n",
    "    correct = True\n",
    "    for k in range(len(Nom)):\n",
    "        try:\n",
    "            Nom[k] = float(Nom[k])\n",
    "        except:\n",
    "            correct = False    \n",
    "\n",
    "correct = False\n",
    "while not correct:\n",
    "    DeNom = raw_input(\"Give in the denominator of the transfer function(a_n*s^n+...+a_1*s+a_0 = a_n, ..., a_1, a_0 )= \")\n",
    "    DeNom = DeNom.split(',')\n",
    "    correct = True\n",
    "    for k in range(len(DeNom)):\n",
    "        try:\n",
    "            DeNom[k] = float(DeNom[k])\n",
    "        except:\n",
    "            correct = False\n",
    "TF = TransferFunction(Nom,DeNom)\n",
    "print TF\n",
    "bode(TF,dB=True)\n",
    "show ()\n",
    "YN = False\n",
    "while YN == False:\n",
    "    \n",
    "    print \"You want to continue with this transfer function?\"\n",
    "    keep_going = None\n",
    "    # Blijf prompten tot correcte input\n",
    "    while keep_going != \"Y\" and keep_going != \"y\" and keep_going != \"n\" and keep_going !=\"N\":\n",
    "        keep_going = raw_input(\"(Y/N)? \")\n",
    "    if keep_going == \"N\" or keep_going==\"n\":\n",
    "        YN=False\n",
    "    else:\n",
    "        YN=True\n",
    "    if YN == False:\n",
    "        correct = False\n",
    "        while not correct:\n",
    "            Nom = raw_input(\"Give in the numerator of the transfer function(a_n*s^n+...+a_1*s+a_0 = a_n, ..., a_1, a_0 )= \")\n",
    "            Nom = Nom.split(',')\n",
    "            correct = True\n",
    "            for k in range(len(Nom)):\n",
    "                try:\n",
    "                    Nom[k] = float(Nom[k])\n",
    "                except:\n",
    "                    correct = False\n",
    "        correct = False            \n",
    "        while not correct:\n",
    "            DeNom = raw_input(\"Give in the denominator of the transfer function(a_n*s^n+...+a_1*s+a_0 = a_n, ..., a_1, a_0 )= \")\n",
    "            DeNom = DeNom.split(',')\n",
    "            correct = True\n",
    "            for k in range(len(DeNom)):\n",
    "                try:\n",
    "                    DeNom[k] = float(DeNom[k])\n",
    "                except:\n",
    "                    correct = False\n",
    "        TF = TransferFunction(Nom,DeNom)\n",
    "        print TF\n",
    "        bode(TF,dB=True)\n",
    "        show ()  \n",
    "PMS = input (\"Give in your desired phasemargin(in degrees) \")\n",
    "GM,PM,X1,X2=margin(TF)\n",
    "PMO = PM\n",
    "if PM == None:\n",
    "    PM=10000\n",
    "    PMO = 10000\n",
    "K = 1   \n",
    "if PM<=PMS and PM!=0:        \n",
    "    print \"The original phasemargin = \",PM,\"so your objective can't be reached\"        \n",
    "else:\n",
    "    teller = 0\n",
    "    while abs(PM-PMS)>0.1 and PM>PMS:\n",
    "        if PM > 60+PMS:\n",
    "            K = K*3\n",
    "            teller+=1\n",
    "        else:\n",
    "            if PM > 45+PMS:\n",
    "                K = K*2\n",
    "                teller+=1\n",
    "            else: \n",
    "                if PM > 20+PMS:\n",
    "                    K= K+2\n",
    "                else:\n",
    "                    if PM > 10+PMS:\n",
    "                        K= K+1\n",
    "                    else:\n",
    "                        if PM > 5+PMS:\n",
    "                            K = K+0.5                      \n",
    "        GM,PM,X1,X2=margin(K*TF)\n",
    "        if PM == None:\n",
    "            PM =10000\n",
    "        K = K+0.001\n",
    "        \n",
    "        if teller == 50:\n",
    "            PM=0\n",
    "            PMS=0\n",
    "    if teller == 50:\n",
    "        print \"Calculating the phasemargin doesn't make sense\"\n",
    "    else:\n",
    "        bode(TF,dB=True)\n",
    "        show ()                \n",
    "        EsK = input(\"Give your estimated value for K \")\n",
    "        if abs(K-EsK)<=0.5:\n",
    "            print \"Your estimated value for K is correct\"\n",
    "        else:\n",
    "            print \"Your estimated value for K is incorrect, it should have been around \",K\n",
    "\n",
    "print \"Made by Van Assche Jonah with the help of Appeltans Pieter\""
   ]
  },
  {
   "cell_type": "code",
   "execution_count": null,
   "metadata": {
    "collapsed": false
   },
   "outputs": [],
   "source": [
    "\n",
    "\n",
    "\n",
    "\n",
    "\n",
    "\n"
   ]
  },
  {
   "cell_type": "code",
   "execution_count": null,
   "metadata": {
    "collapsed": false
   },
   "outputs": [],
   "source": [
    "\n",
    "\n",
    "      "
   ]
  },
  {
   "cell_type": "code",
   "execution_count": null,
   "metadata": {
    "collapsed": false
   },
   "outputs": [],
   "source": [
    "\n",
    "\n"
   ]
  },
  {
   "cell_type": "code",
   "execution_count": null,
   "metadata": {
    "collapsed": false
   },
   "outputs": [],
   "source": [
    "\n"
   ]
  },
  {
   "cell_type": "code",
   "execution_count": null,
   "metadata": {
    "collapsed": false
   },
   "outputs": [],
   "source": [
    "\n"
   ]
  },
  {
   "cell_type": "code",
   "execution_count": null,
   "metadata": {
    "collapsed": true
   },
   "outputs": [],
   "source": []
  },
  {
   "cell_type": "code",
   "execution_count": null,
   "metadata": {
    "collapsed": true
   },
   "outputs": [],
   "source": []
  }
 ],
 "metadata": {
  "kernelspec": {
   "display_name": "Python 2",
   "language": "python",
   "name": "python2"
  },
  "language_info": {
   "codemirror_mode": {
    "name": "ipython",
    "version": 2
   },
   "file_extension": ".py",
   "mimetype": "text/x-python",
   "name": "python",
   "nbconvert_exporter": "python",
   "pygments_lexer": "ipython2",
   "version": "2.7.10"
  }
 },
 "nbformat": 4,
 "nbformat_minor": 0
}
