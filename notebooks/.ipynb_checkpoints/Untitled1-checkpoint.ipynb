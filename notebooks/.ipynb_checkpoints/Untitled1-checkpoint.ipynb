{
 "cells": [
  {
   "cell_type": "markdown",
   "metadata": {},
   "source": [
    "# Lead and Lag filter\n",
    "\n",
    "<img src=\"feedback_pitch2.png\">\n",
    "We start with a proporitional contoller. $C(s) = K$"
   ]
  },
  {
   "cell_type": "code",
   "execution_count": 15,
   "metadata": {
    "collapsed": false
   },
   "outputs": [
    {
     "ename": "IndentationError",
     "evalue": "unexpected indent (<ipython-input-15-e4d6d41c5d98>, line 11)",
     "output_type": "error",
     "traceback": [
      "\u001b[1;36m  File \u001b[1;32m\"<ipython-input-15-e4d6d41c5d98>\"\u001b[1;36m, line \u001b[1;32m11\u001b[0m\n\u001b[1;33m    control.bode(P*C,dB = True )\u001b[0m\n\u001b[1;37m    ^\u001b[0m\n\u001b[1;31mIndentationError\u001b[0m\u001b[1;31m:\u001b[0m unexpected indent\n"
     ]
    }
   ],
   "source": [
    "import control\n",
    "import matplotlib.pyplot as plt\n",
    "from IPython.html.widgets import *\n",
    "\n",
    "%matplotlib inline\n",
    "num = [1]\n",
    "den = [1,8,12,0]\n",
    "P = control.tf(num,den)\n",
    "\n",
    "def proportional_controller(K):\n",
    "    C = control.tf([K],[1])\n",
    "    control.bode(P*C,dB = True )\n",
    "    plt.show()\n",
    "interact(proportional_controller,K=(1,300))"
   ]
  },
  {
   "cell_type": "code",
   "execution_count": null,
   "metadata": {
    "collapsed": true
   },
   "outputs": [],
   "source": []
  }
 ],
 "metadata": {
  "kernelspec": {
   "display_name": "Python 2",
   "language": "python",
   "name": "python2"
  },
  "language_info": {
   "codemirror_mode": {
    "name": "ipython",
    "version": 2
   },
   "file_extension": ".py",
   "mimetype": "text/x-python",
   "name": "python",
   "nbconvert_exporter": "python",
   "pygments_lexer": "ipython2",
   "version": "2.7.9"
  }
 },
 "nbformat": 4,
 "nbformat_minor": 0
}
