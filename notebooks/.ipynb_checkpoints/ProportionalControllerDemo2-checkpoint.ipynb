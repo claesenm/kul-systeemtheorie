{
 "cells": [
  {
   "cell_type": "markdown",
   "metadata": {},
   "source": [
    "# Gain margin\n",
    "The gainmargin is defined as $-20 log_{10}(\\mid P(j\\omega_{\\pi})C(j\\omega_{\\pi}) \\mid)$ with $\\omega_{\\pi}$ the phase for which $P(j\\omega)C(\\j\\omega)$ passes through -180°."
   ]
  },
  {
   "cell_type": "markdown",
   "metadata": {},
   "source": [
    "## How to see gain margin on bode plot\n",
    "To see the gain margin on a bode plot. You have to determ for which frequency($\\omega$) the phase becomes -180°. Determ at that frequency the amplitude. The difference between that amplitude and 0db is the gain margin."
   ]
  },
  {
   "cell_type": "code",
   "execution_count": 24,
   "metadata": {
    "collapsed": false
   },
   "outputs": [
    {
     "name": "stdout",
     "output_type": "stream",
     "text": [
      "\n",
      "       1\n",
      "---------------\n",
      "s^3 + 2 s^2 + s\n",
      "\n"
     ]
    },
    {
     "data": {
      "image/png": "[encoded data removed]",
      "text/plain": [
       "<matplotlib.figure.Figure at 0xacf4bf0>"
      ]
     },
     "metadata": {},
     "output_type": "display_data"
    },
    {
     "name": "stdout",
     "output_type": "stream",
     "text": [
      "The gain margin of this system is -6.0 dB \n"
     ]
    }
   ],
   "source": [
    "import control\n",
    "from matplotlib import*\n",
    "from pylab import*\n",
    "import numpy as np\n",
    "from math import *\n",
    "%matplotlib inline\n",
    "TF = control.TransferFunction([1],[1,2,1,0])\n",
    "sys = control.tf([1],[1,2,1,0])\n",
    "print TF\n",
    "control.bode(TF,dB=True)\n",
    "hold(True)\n",
    "gm, pm, Wcg, Wcp = control.margin(sys)\n",
    "subplot(2,1,1)\n",
    "plot([Wcp,Wcp],[-100,100])\n",
    "plot([10**-1,10],[-20*log10(gm),-20*log10(gm)])\n",
    "subplot(2,1,2)\n",
    "plot([Wcp,Wcp],[-300,0])\n",
    "plot([10**-1,10],[-180,-180])\n",
    "show()\n",
    "print \"The gain margin of this system is %s dB \"  % round(-20*log10(gm),1)"
   ]
  },
  {
   "cell_type": "markdown",
   "metadata": {},
   "source": [
    "## How to see the gain margin on Nyquist Plot\n",
    "To see the gain margin on a Nyquist plot you have to determ the intersection of the x-axis and the Nyquist-plot. The gain margin is the $ 20 log_{10}(x) $ x is diffecence between this intersect and the point (-1,0).\n"
   ]
  },
  {
   "cell_type": "code",
   "execution_count": 2,
   "metadata": {
    "collapsed": false
   },
   "outputs": [],
   "source": [
    "control.nyquist(sys)\n",
    "hold(True)\n",
    "plot(np.cos(np.linspace(0,2*pi,1000)),np.sin(np.linspace(0,2*pi,1000)),'r')\n",
    "show()"
   ]
  },
  {
   "cell_type": "code",
   "execution_count": null,
   "metadata": {
    "collapsed": true
   },
   "outputs": [],
   "source": []
  }
 ],
 "metadata": {
  "kernelspec": {
   "display_name": "Python 2",
   "language": "python",
   "name": "python2"
  },
  "language_info": {
   "codemirror_mode": {
    "name": "ipython",
    "version": 2
   },
   "file_extension": ".py",
   "mimetype": "text/x-python",
   "name": "python",
   "nbconvert_exporter": "python",
   "pygments_lexer": "ipython2",
   "version": "2.7.9"
  }
 },
 "nbformat": 4,
 "nbformat_minor": 0
}
